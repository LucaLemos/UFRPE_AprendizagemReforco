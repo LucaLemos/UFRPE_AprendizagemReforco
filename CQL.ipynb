{
  "cells": [
    {
      "cell_type": "markdown",
      "metadata": {},
      "source": [
        "# Instalando dependências"
      ]
    },
    {
      "cell_type": "code",
      "execution_count": null,
      "metadata": {
        "id": "7w0BqRMVqAGK"
      },
      "outputs": [],
      "source": [
        "from IPython.display import clear_output\n",
        "import sys\n",
        "\n",
        "IN_COLAB = 'google.colab' in sys.modules"
      ]
    },
    {
      "cell_type": "code",
      "execution_count": null,
      "metadata": {
        "id": "aKTfNBr1y_vY"
      },
      "outputs": [],
      "source": [
        "if IN_COLAB:\n",
        "    !git clone https://github.com/LucaLemos/UFRPE_AprendizagemReforco\n",
        "    sys.path.append(\"/content/UFRPE_AprendizagemReforco\")\n",
        "\n",
        "    clear_output()\n",
        "else:\n",
        "    from os import path\n",
        "    sys.path.append( path.dirname( path.dirname( path.abspath(\"__main__\") ) ) )"
      ]
    },
    {
      "cell_type": "code",
      "execution_count": null,
      "metadata": {
        "colab": {
          "base_uri": "https://localhost:8080/"
        },
        "id": "SSqFlN1Cpqlc",
        "outputId": "dc2f6c29-5837-4551-b9b6-ec11f188bcb0"
      },
      "outputs": [],
      "source": [
        "if IN_COLAB:\n",
        "    # for saving videos\n",
        "    !apt-get install ffmpeg\n",
        "    !pip install gymnasium==1.0.0   # conferir se precisa\n",
        "    #!pip install tianshou # Para criar o Replay_Buffer\n",
        "    #!pip install d3rlpy==2.7.0\n",
        "    # clone repository"
      ]
    },
    {
      "cell_type": "markdown",
      "metadata": {},
      "source": [
        "# Criando Dataset"
      ]
    },
    {
      "cell_type": "code",
      "execution_count": null,
      "metadata": {},
      "outputs": [],
      "source": [
        "import gymnasium as gym\n",
        "import torch\n",
        "from util.algorithms import run_sarsa\n",
        "from util.network import ReplayBuffer, MLP, epsilon_greedy_qnet, calc_loss\n",
        "from IPython.display import clear_output"
      ]
    },
    {
      "cell_type": "code",
      "execution_count": null,
      "metadata": {},
      "outputs": [],
      "source": [
        "DATASET_SIZE = 200_000  # Tamanho do conjunto de dados (replay buffer)\n",
        "LEARNING_RATE = 1e-3  # Taxa de aprendizado para o otimizador\n",
        "GAMMA = 0.99  # Fator de desconto\n",
        "BATCH_SIZE = 128  # Tamanho do batch para treinamento da rede neural"
      ]
    },
    {
      "cell_type": "code",
      "execution_count": null,
      "metadata": {},
      "outputs": [],
      "source": [
        "ENV_NAMES = []\n",
        "ENVS_REPLAY_BUFFER = []"
      ]
    },
    {
      "cell_type": "markdown",
      "metadata": {},
      "source": [
        "## Dataset Básico"
      ]
    },
    {
      "cell_type": "code",
      "execution_count": null,
      "metadata": {},
      "outputs": [],
      "source": [
        "# Passo 1: Coletar um conjunto fixo de transições (Replay Buffer)\n",
        "# Ambientes Básicos\n",
        "ENV_NAMES += [\"FrozenLake-v1\", \"Taxi-v3\", \"CliffWalking-v0\"]\n",
        "for i, env_name in enumerate(ENV_NAMES):\n",
        "    device = torch.device(\"cuda:0\" if torch.cuda.is_available() else \"cpu\")\n",
        "    replay_buffer = ReplayBuffer(DATASET_SIZE, BATCH_SIZE, device)\n",
        "    env = gym.make(env_name, render_mode=\"rgb_array\")\n",
        "    \n",
        "    sum_rewards_per_ep, q = run_sarsa(env, replay_buffer, DATASET_SIZE, LEARNING_RATE, GAMMA)\n",
        "    ENVS_REPLAY_BUFFER.append((env_name, env, replay_buffer, sum_rewards_per_ep, q))\n",
        "    replay_buffer.save_config(f\"config\\dataset\\sarsa\\{env_name}.json\")\n"
      ]
    },
    {
      "cell_type": "markdown",
      "metadata": {},
      "source": [
        "## Dataset com Rede Neural"
      ]
    },
    {
      "cell_type": "code",
      "execution_count": null,
      "metadata": {},
      "outputs": [],
      "source": [
        "from torch import optim, nn\n",
        "import numpy as np"
      ]
    },
    {
      "cell_type": "code",
      "execution_count": null,
      "metadata": {},
      "outputs": [],
      "source": [
        "def DQN_TRAIN(env, env_name, gamma, qnet, qnet_lr, target_qnet, target_update_freq, replay_buffer, batch_size, epsilon_f, epsilon_decay_period, transitions):\n",
        "    # Cria o otimizador, que vai fazer o ajuste dos pesos da 'qnet',\n",
        "    # Usa uma técnica de gradiente descendente de destaque, chamada ADAM\n",
        "    optimizer = optim.Adam(qnet.parameters(), lr=qnet_lr)\n",
        "\n",
        "    episode_reward_list = []\n",
        "    step = 0\n",
        "    epsilon = 1.0\n",
        "\n",
        "    state, _ = env.reset()\n",
        "    episode_reward = 0.0\n",
        "\n",
        "    for _ in range(transitions):\n",
        "        # Decaimento linear do epsilon\n",
        "        epsilon = max(epsilon_f, 1.0 - step / epsilon_decay_period)\n",
        "\n",
        "        action = epsilon_greedy_qnet(qnet, env, state, epsilon)\n",
        "\n",
        "        # Faz um passo / Aplica uma ação no ambiente\n",
        "        new_state, reward, terminated, truncated, _ = env.step(action)\n",
        "\n",
        "        step += 1\n",
        "        done = terminated or truncated\n",
        "        episode_reward += reward\n",
        "\n",
        "        # Adiciona no buffer\n",
        "        replay_buffer.add(state, action, reward, terminated, new_state)\n",
        "        state = new_state\n",
        "\n",
        "        if done:\n",
        "            episode_reward_list.append(episode_reward)\n",
        "            if len(episode_reward_list) % 100 == 0:\n",
        "                mean_reward = np.mean(episode_reward_list[-100:])\n",
        "                print(f'Episode Reward: {episode_reward_list[-1]} | Epsilon: {epsilon} | Step: {step} | Mean Reward: {mean_reward}')\n",
        "            state, _ = env.reset()\n",
        "            episode_reward = 0.0\n",
        "\n",
        "            # Abaixo, faz vários loggings de dados\n",
        "            \n",
        "        # Faz a 'tgt_net' receber os mesmos valores de pesos da 'qnet', na frequência indicada\n",
        "        \n",
        "        if step > batch_size:\n",
        "            if step % target_update_freq == 0:\n",
        "                target_qnet.load_state_dict(qnet.state_dict())\n",
        "            # Escolhe amostras aleatórios do buffer e faz uma atualização dos pesos da rede\n",
        "            optimizer.zero_grad()\n",
        "            batch = replay_buffer.sample_continuous()\n",
        "            loss_t = calc_loss(batch, qnet, target_qnet, gamma)\n",
        "            loss_t.backward()\n",
        "            optimizer.step()\n",
        "            \n",
        "    mean_reward = np.mean(episode_reward_list[-100:])\n",
        "    print(f\"Mean_reward: {mean_reward}\")\n",
        "    filename = f\"./neural_dataset/{env_name}.pth\"\n",
        "    torch.save(qnet.state_dict(), filename)\n",
        "    print(f\"Model saved as {filename}\")"
      ]
    },
    {
      "cell_type": "code",
      "execution_count": null,
      "metadata": {},
      "outputs": [],
      "source": [
        "GOAL_REWARD = 200\n",
        "GAMMA = 0.999\n",
        "REPLAY_SIZE = 100_000\n",
        "BATCH_SIZE = 32\n",
        "LEARNING_RATE = 1e-3\n",
        "SYNC_TARGET_FRAMES = 1_000\n",
        "\n",
        "EPSILON_DECAY_PERIOD = 75_000\n",
        "EPSILON_FINAL = 2e-2"
      ]
    },
    {
      "cell_type": "code",
      "execution_count": null,
      "metadata": {},
      "outputs": [],
      "source": [
        "#ENV_NAMES += [\"CartPole-v1\"]\n",
        "ENV_NAMES += [\"LunarLander-v3\"]\n",
        "for i, env_name in enumerate(ENV_NAMES[-1:]):\n",
        "    device = torch.device(\"cuda:0\" if torch.cuda.is_available() else \"cpu\")\n",
        "    #replay_buffer = ReplayBuffer(DATASET_SIZE, BATCH_SIZE, device)\n",
        "    buffer = ReplayBuffer(DATASET_SIZE, BATCH_SIZE, device)\n",
        "    print(env_name)\n",
        "    env = gym.make(env_name)\n",
        "    \n",
        "    qnet1 = MLP(env.observation_space.shape[0], env.action_space.n, [256,256])\n",
        "    qtarget1 = MLP(env.observation_space.shape[0], env.action_space.n, [256,256])\n",
        "\n",
        "    DQN_TRAIN(\n",
        "    env = env,\n",
        "    env_name = env_name,\n",
        "    gamma = GAMMA,\n",
        "    qnet = qnet1,\n",
        "    qnet_lr = LEARNING_RATE,\n",
        "    target_qnet = qtarget1,\n",
        "    target_update_freq = SYNC_TARGET_FRAMES,\n",
        "    replay_buffer= buffer,\n",
        "    batch_size = BATCH_SIZE,\n",
        "    epsilon_f = EPSILON_FINAL,\n",
        "    epsilon_decay_period = EPSILON_DECAY_PERIOD,\n",
        "    transitions = REPLAY_SIZE)\n",
        "\n",
        "    #!sum_rewards_per_ep, q = run_sarsa(env, replay_buffer, DATASET_SIZE, LEARNING_RATE, GAMMA)\n",
        "    ENVS_REPLAY_BUFFER.append((env_name, env, buffer))\n",
        "    buffer.save_config(f\"config\\dataset\\dqn\\{env_name}.json\")"
      ]
    },
    {
      "cell_type": "markdown",
      "metadata": {},
      "source": [
        "# Treinando o Modelo"
      ]
    },
    {
      "cell_type": "markdown",
      "metadata": {},
      "source": [
        "## Carregando Datasets"
      ]
    },
    {
      "cell_type": "code",
      "execution_count": 1,
      "metadata": {},
      "outputs": [],
      "source": [
        "import gymnasium as gym\n",
        "from util.network import ReplayBuffer\n"
      ]
    },
    {
      "cell_type": "code",
      "execution_count": 2,
      "metadata": {},
      "outputs": [],
      "source": [
        "ENV_NAMES = [\"FrozenLake-v1\", \"Taxi-v3\", \"CliffWalking-v0\", \"CartPole-v1\", \"LunarLander-v3\"]"
      ]
    },
    {
      "cell_type": "code",
      "execution_count": 3,
      "metadata": {},
      "outputs": [],
      "source": [
        "ENVS_REPLAY_BUFFER = []\n",
        "for env_name in ENV_NAMES[:3]:\n",
        "    replay_buffer = ReplayBuffer.load_config(f\"config\\dataset\\sarsa\\{env_name}.json\")\n",
        "    env = gym.make(env_name)\n",
        "    ENVS_REPLAY_BUFFER.append((env_name, env, replay_buffer))\n",
        "for env_name in ENV_NAMES[3:]:\n",
        "    replay_buffer = ReplayBuffer.load_config(f\"config\\dataset\\dqn\\{env_name}.json\")\n",
        "    env = gym.make(env_name)\n",
        "    ENVS_REPLAY_BUFFER.append((env_name, env, replay_buffer))"
      ]
    },
    {
      "cell_type": "markdown",
      "metadata": {},
      "source": [
        "## Definições de Treino"
      ]
    },
    {
      "cell_type": "code",
      "execution_count": 5,
      "metadata": {},
      "outputs": [],
      "source": [
        "import argparse"
      ]
    },
    {
      "cell_type": "code",
      "execution_count": 6,
      "metadata": {},
      "outputs": [],
      "source": [
        "def get_config(env_name, count_episodes, seed, gamma, tau, alpha, alpha_decay, lr, steps, hidden_size, isDiscrete):\n",
        "    parser = argparse.ArgumentParser(description='RL')\n",
        "    parser.add_argument(\"--run_name\", type=str, default=f\"{env_name}-DQN-CQL\", help=\"Run name, default: CQL-DQN\")\n",
        "    parser.add_argument(\"--env\", type=str, default=env_name, help=\"Gym environment name, default: CartPole-v0\")\n",
        "    parser.add_argument(\"--episodes\", type=int, default=count_episodes, help=\"Number of episodes, default: 200\")\n",
        "    parser.add_argument(\"--seed\", type=int, default=seed, help=\"Seed, default: 1\")\n",
        "    parser.add_argument(\"--steps\", type=int, default=steps, help=\"Saves the network every x epochs, default: 25\")\n",
        "    \n",
        "    parser.add_argument(\"--gamma\", type=float, default=gamma, help=\"Saves the network every x epochs, default: 25\")\n",
        "    parser.add_argument(\"--tau\", type=float, default=tau, help=\"Saves the network every x epochs, default: 25\")\n",
        "    parser.add_argument(\"--alpha\", type=float, default=alpha, help=\"Saves the network every x epochs, default: 25\")\n",
        "    parser.add_argument(\"--alpha_decay\", type=float, default=alpha_decay, help=\"Saves the network every x epochs, default: 25\")\n",
        "    parser.add_argument(\"--lr\", type=float, default=lr, help=\"Saves the network every x epochs, default: 25\")\n",
        "    parser.add_argument(\"--hidden_size\", type=list[int], default=hidden_size, help=\"Saves the network every x epochs, default: 25\")\n",
        "    parser.add_argument(\"--isDiscrete\", type=bool, default=isDiscrete, help=\"Saves the network every x epochs, default: 25\")\n",
        "    \n",
        "    args, _ = parser.parse_known_args()\n",
        "    return args"
      ]
    },
    {
      "cell_type": "code",
      "execution_count": null,
      "metadata": {},
      "outputs": [],
      "source": [
        "from util.network import CQLAgent, to_one_hot, MLP\n",
        "import numpy as np\n",
        "import random\n",
        "import torch\n",
        "from collections import deque"
      ]
    },
    {
      "cell_type": "code",
      "execution_count": 8,
      "metadata": {},
      "outputs": [],
      "source": [
        "def train_DQN_CQL(config, buffer):\n",
        "    np.random.seed(config.seed)\n",
        "    random.seed(config.seed)\n",
        "    torch.manual_seed(config.seed)\n",
        "    env = gym.make(config.env)\n",
        "\n",
        "    device = torch.device(\"cuda:0\" if torch.cuda.is_available() else \"cpu\")\n",
        "    losses = deque(maxlen=1000)\n",
        "    if config.isDiscrete:\n",
        "        agent = CQLAgent(env.observation_space.n, env.action_space.n, config.tau, config.gamma, config.lr, config.alpha, config.alpha_decay, config.hidden_size, device, config.isDiscrete)\n",
        "    else:\n",
        "        agent = CQLAgent(env.observation_space.shape[0], env.action_space.n, config.tau, config.gamma, config.lr, config.alpha, config.alpha_decay, config.hidden_size, device, config.isDiscrete)\n",
        "    for i in range(config.steps):\n",
        "        loss, cql_loss, bellmann_error = agent.learn(buffer.sample_continuous())\n",
        "        losses.append(loss)\n",
        "        agent.alpha = max(0.3, agent.alpha - agent.alpha_decay)         \n",
        "        if i % 1000 == 0:\n",
        "            print(f\"[TRAIN {i}] Mean Q Loss: {np.mean(losses)} \")\n",
        "    \n",
        "    agent.save(config, save_name=\"CQL-DQN\")\n",
        "    \n",
        "    return env"
      ]
    },
    {
      "cell_type": "code",
      "execution_count": 9,
      "metadata": {},
      "outputs": [],
      "source": [
        "def evaluate(config, env, model):\n",
        "    total_rewards = []\n",
        "    num_episodes = config.episodes\n",
        "    for i in range(num_episodes):\n",
        "        print(f\"[Episódio {i}]\")\n",
        "        state, _ = env.reset()\n",
        "        done = False\n",
        "        episode_reward = 0\n",
        "        step = 0\n",
        "        while not done:\n",
        "            state_tensor = torch.tensor([state], dtype=torch.long)\n",
        "            state_tensor = to_one_hot(model.state_size, state_tensor)[0].float().unsqueeze(0)\n",
        "            with torch.no_grad():\n",
        "                q_values = model(state_tensor)\n",
        "                action = torch.argmax(q_values).item()\n",
        "            state, reward, done, truncated, info = env.step(action)\n",
        "            episode_reward += reward\n",
        "            step += 1\n",
        "            if step == 10000:\n",
        "                break\n",
        "        total_rewards.append(episode_reward)\n",
        "\n",
        "    print(f\"Média de recompensa após {num_episodes} episódios: {sum(total_rewards) / num_episodes}\")"
      ]
    },
    {
      "cell_type": "code",
      "execution_count": 10,
      "metadata": {},
      "outputs": [],
      "source": [
        "# Função para extrair a tabela Q da rede neural\n",
        "def extract_q_table(q_network, num_states, num_actions):\n",
        "    q_table = np.zeros((num_states, num_actions))\n",
        "    for state in range(num_states):\n",
        "        state_tensor = torch.tensor([state], dtype=torch.long)\n",
        "        state_tensor = to_one_hot(num_states, state_tensor)[0].float().unsqueeze(0)\n",
        "        q_values = q_network(state_tensor).detach().numpy()\n",
        "        q_table[state] = q_values\n",
        "    return q_table"
      ]
    },
    {
      "cell_type": "code",
      "execution_count": 11,
      "metadata": {},
      "outputs": [],
      "source": [
        "from util.qtable_helper import record_video_qtable\n",
        "from util.notebook import display_videos_from_path"
      ]
    },
    {
      "cell_type": "code",
      "execution_count": 12,
      "metadata": {},
      "outputs": [],
      "source": [
        "\n",
        "def extract_and_display(model, env_name):\n",
        "    # Extrair a tabela Q da rede neural treinada\n",
        "    q_table = extract_q_table(model, model.state_size, model.action_size)\n",
        "\n",
        "    # Gravar um vídeo da política treinada\n",
        "    video_path = 'videos/'  # Pasta onde os vídeos serão salvos\n",
        "    video_prefix = f\"cql_{env_name}\"  # Prefixo para o nome do arquivo de vídeo\n",
        "\n",
        "    # Gravar o vídeo\n",
        "    record_video_qtable(env_name, q_table, episodes=2, folder=video_path, prefix=video_prefix)\n",
        "\n",
        "    # Exibir o vídeo gravado\n",
        "    display_videos_from_path(video_path, prefix=video_prefix)"
      ]
    },
    {
      "cell_type": "code",
      "execution_count": 13,
      "metadata": {},
      "outputs": [],
      "source": [
        "def evaluate_Continuous(config, env, model):\n",
        "    total_rewards = []\n",
        "    num_episodes = config.episodes\n",
        "    for i in range(num_episodes):\n",
        "        print(f\"[Episódio {i}]\")\n",
        "        state, _ = env.reset()\n",
        "        done = False\n",
        "        episode_reward = 0.0\n",
        "        step = 0\n",
        "        while not done:\n",
        "            state_v = torch.tensor(state, dtype=torch.float32)\n",
        "            state_v = state_v.unsqueeze(0)  # Adiciona dimensão de batch como eixo 0 (e.g. transforma uma lista [a,b,c] em [[a,b,c]])\n",
        "            with torch.no_grad():\n",
        "                q_vals_v = model(state_v)\n",
        "                _, act_v = torch.max(q_vals_v, dim=1)\n",
        "            action = int(act_v.item())\n",
        "\n",
        "\n",
        "            state, reward, done, truncated, info = env.step(action)\n",
        "            episode_reward += reward\n",
        "            step += 1\n",
        "            if step == 10000:\n",
        "                break\n",
        "        total_rewards.append(episode_reward)\n",
        "\n",
        "    print(f\"Média de recompensa após {num_episodes} episódios: {sum(total_rewards) / num_episodes}\")"
      ]
    },
    {
      "cell_type": "code",
      "execution_count": 14,
      "metadata": {},
      "outputs": [],
      "source": [
        "# Função para renderizar o ambiente com o modelo treinado\n",
        "import time\n",
        "def render_environment(model, env_name, device=\"cpu\", episodes=5, max_steps=100000):\n",
        "    env = gym.make(env_name, render_mode=\"human\")  # Modo \"human\" para renderização\n",
        "    for episode in range(episodes):\n",
        "        state, _ = env.reset()\n",
        "        done = False\n",
        "        episode_reward = 0\n",
        "        step = 0\n",
        "\n",
        "        while not done and step < max_steps:\n",
        "            # Renderiza o ambiente\n",
        "            env.render()\n",
        "            time.sleep(0.02)  # Adiciona um pequeno delay para visualização\n",
        "\n",
        "            # Converte o estado para um tensor e passa pelo modelo\n",
        "            state_tensor = torch.tensor(state, dtype=torch.float32).unsqueeze(0).to(device)\n",
        "            with torch.no_grad():\n",
        "                q_values = model(state_tensor)\n",
        "                action = torch.argmax(q_values).item()\n",
        "\n",
        "            # Executa a ação no ambiente\n",
        "            state, reward, done, truncated, info = env.step(action)\n",
        "            episode_reward += reward\n",
        "            step += 1\n",
        "\n",
        "            if done or truncated:\n",
        "                print(f\"Episódio {episode + 1}: Recompensa = {episode_reward}, Passos = {step}\")\n",
        "                break\n",
        "\n",
        "    env.close()"
      ]
    },
    {
      "cell_type": "markdown",
      "metadata": {},
      "source": [
        "## FrozenLake"
      ]
    },
    {
      "cell_type": "code",
      "execution_count": 27,
      "metadata": {},
      "outputs": [],
      "source": [
        "COUNT_EPISODES = 50\n",
        "SEED = 777\n",
        "BATCH_SIZE = 32\n",
        "STEPS = 100_000\n",
        "GAMMA = 0.95 # Fator de desconto\n",
        "TAU = 1e-1      # Taxa de atualização da target_network\n",
        "ALPHA = 0.9      # Peso do termo CQL\n",
        "APLHA_DECAY = ALPHA / (0.85 * STEPS)\n",
        "LEARNING_RATE = 3e-4  # Taxa de aprendizado para o otimizador\n",
        "HIDDEN_SIZE = [64, 32]\n",
        "ISDISCRETE = True\n",
        "# Extra:"
      ]
    },
    {
      "cell_type": "code",
      "execution_count": 16,
      "metadata": {},
      "outputs": [],
      "source": [
        "ENVS_REPLAY_BUFFER[0][2].batch_size = BATCH_SIZE"
      ]
    },
    {
      "cell_type": "code",
      "execution_count": 17,
      "metadata": {},
      "outputs": [],
      "source": [
        "config = get_config(ENVS_REPLAY_BUFFER[0][0], COUNT_EPISODES, SEED, GAMMA, TAU, ALPHA, APLHA_DECAY, LEARNING_RATE, STEPS, HIDDEN_SIZE, ISDISCRETE)"
      ]
    },
    {
      "cell_type": "code",
      "execution_count": 18,
      "metadata": {},
      "outputs": [
        {
          "name": "stdout",
          "output_type": "stream",
          "text": [
            "[TRAIN 0] Mean Q Loss: 1.4393583536148071 \n",
            "[TRAIN 1000] Mean Q Loss: 0.7371770503222942 \n",
            "[TRAIN 2000] Mean Q Loss: 0.6102223298847675 \n",
            "[TRAIN 3000] Mean Q Loss: 0.594596025750041 \n",
            "[TRAIN 4000] Mean Q Loss: 0.5902134938538075 \n",
            "[TRAIN 5000] Mean Q Loss: 0.5990718638002872 \n",
            "[TRAIN 6000] Mean Q Loss: 0.5923053021878004 \n",
            "[TRAIN 7000] Mean Q Loss: 0.5864106568396091 \n",
            "[TRAIN 8000] Mean Q Loss: 0.5993010680526495 \n",
            "[TRAIN 9000] Mean Q Loss: 0.5763265080153942 \n",
            "[TRAIN 10000] Mean Q Loss: 0.5841210248321295 \n",
            "[TRAIN 11000] Mean Q Loss: 0.5845037899762392 \n",
            "[TRAIN 12000] Mean Q Loss: 0.5741387124508619 \n",
            "[TRAIN 13000] Mean Q Loss: 0.5807594513595105 \n",
            "[TRAIN 14000] Mean Q Loss: 0.5774913482815027 \n",
            "[TRAIN 15000] Mean Q Loss: 0.5696224720180034 \n",
            "[TRAIN 16000] Mean Q Loss: 0.5836908711493015 \n",
            "[TRAIN 17000] Mean Q Loss: 0.5828945854604244 \n",
            "[TRAIN 18000] Mean Q Loss: 0.5717102480977774 \n",
            "[TRAIN 19000] Mean Q Loss: 0.5711632730662822 \n",
            "[TRAIN 20000] Mean Q Loss: 0.5519349473565817 \n",
            "[TRAIN 21000] Mean Q Loss: 0.5546637967079878 \n",
            "[TRAIN 22000] Mean Q Loss: 0.5692176059633494 \n",
            "[TRAIN 23000] Mean Q Loss: 0.5599105479866266 \n",
            "[TRAIN 24000] Mean Q Loss: 0.5657792682945728 \n",
            "[TRAIN 25000] Mean Q Loss: 0.5736464671492577 \n",
            "[TRAIN 26000] Mean Q Loss: 0.5503770252913237 \n",
            "[TRAIN 27000] Mean Q Loss: 0.552274923786521 \n",
            "[TRAIN 28000] Mean Q Loss: 0.5438898401260376 \n",
            "[TRAIN 29000] Mean Q Loss: 0.5563903961032629 \n",
            "[TRAIN 30000] Mean Q Loss: 0.5457250896245242 \n",
            "[TRAIN 31000] Mean Q Loss: 0.5483297622799873 \n",
            "[TRAIN 32000] Mean Q Loss: 0.5344251069128514 \n",
            "[TRAIN 33000] Mean Q Loss: 0.5360592510402202 \n",
            "[TRAIN 34000] Mean Q Loss: 0.5322996751144529 \n",
            "[TRAIN 35000] Mean Q Loss: 0.5295455330610275 \n",
            "[TRAIN 36000] Mean Q Loss: 0.546374128267169 \n",
            "[TRAIN 37000] Mean Q Loss: 0.5335796265751124 \n",
            "[TRAIN 38000] Mean Q Loss: 0.5292613869309425 \n",
            "[TRAIN 39000] Mean Q Loss: 0.5231180367916822 \n",
            "[TRAIN 40000] Mean Q Loss: 0.5251473273932934 \n",
            "[TRAIN 41000] Mean Q Loss: 0.5087234212011099 \n",
            "[TRAIN 42000] Mean Q Loss: 0.5164262786358594 \n",
            "[TRAIN 43000] Mean Q Loss: 0.5167601962387561 \n",
            "[TRAIN 44000] Mean Q Loss: 0.515695904314518 \n",
            "[TRAIN 45000] Mean Q Loss: 0.507133328333497 \n",
            "[TRAIN 46000] Mean Q Loss: 0.5164357947781683 \n",
            "[TRAIN 47000] Mean Q Loss: 0.5169147003293038 \n",
            "[TRAIN 48000] Mean Q Loss: 0.5009949544966221 \n",
            "[TRAIN 49000] Mean Q Loss: 0.5195639601051807 \n",
            "[TRAIN 50000] Mean Q Loss: 0.5144400559812784 \n",
            "[TRAIN 51000] Mean Q Loss: 0.5092868690788745 \n",
            "[TRAIN 52000] Mean Q Loss: 0.5036721803247929 \n",
            "[TRAIN 53000] Mean Q Loss: 0.5008317461758852 \n",
            "[TRAIN 54000] Mean Q Loss: 0.4869071980342269 \n",
            "[TRAIN 55000] Mean Q Loss: 0.491722542822361 \n",
            "[TRAIN 56000] Mean Q Loss: 0.48532530570775273 \n",
            "[TRAIN 57000] Mean Q Loss: 0.4927499937787652 \n",
            "[TRAIN 58000] Mean Q Loss: 0.48032164499163627 \n",
            "[TRAIN 59000] Mean Q Loss: 0.4951617688089609 \n",
            "[TRAIN 60000] Mean Q Loss: 0.4844567655175924 \n",
            "[TRAIN 61000] Mean Q Loss: 0.4941921544522047 \n",
            "[TRAIN 62000] Mean Q Loss: 0.48831081415712835 \n",
            "[TRAIN 63000] Mean Q Loss: 0.5028537870720029 \n",
            "[TRAIN 64000] Mean Q Loss: 0.49759163370728493 \n",
            "[TRAIN 65000] Mean Q Loss: 0.49421639144420626 \n",
            "[TRAIN 66000] Mean Q Loss: 0.48052085852622983 \n",
            "[TRAIN 67000] Mean Q Loss: 0.48671603652834894 \n",
            "[TRAIN 68000] Mean Q Loss: 0.4852188633084297 \n",
            "[TRAIN 69000] Mean Q Loss: 0.4990983117520809 \n",
            "[TRAIN 70000] Mean Q Loss: 0.4977541634887457 \n",
            "[TRAIN 71000] Mean Q Loss: 0.4849897121861577 \n",
            "[TRAIN 72000] Mean Q Loss: 0.4858871515467763 \n",
            "[TRAIN 73000] Mean Q Loss: 0.4901679164171219 \n",
            "[TRAIN 74000] Mean Q Loss: 0.4899923977255821 \n",
            "[TRAIN 75000] Mean Q Loss: 0.49426661582291126 \n",
            "[TRAIN 76000] Mean Q Loss: 0.4886592535227537 \n",
            "[TRAIN 77000] Mean Q Loss: 0.5020362516194582 \n",
            "[TRAIN 78000] Mean Q Loss: 0.4825526957437396 \n",
            "[TRAIN 79000] Mean Q Loss: 0.500012902751565 \n",
            "[TRAIN 80000] Mean Q Loss: 0.48773323628306386 \n",
            "[TRAIN 81000] Mean Q Loss: 0.48972001984715463 \n",
            "[TRAIN 82000] Mean Q Loss: 0.491436918579042 \n",
            "[TRAIN 83000] Mean Q Loss: 0.4840682397559285 \n",
            "[TRAIN 84000] Mean Q Loss: 0.48074558440595866 \n",
            "[TRAIN 85000] Mean Q Loss: 0.4923880165144801 \n",
            "[TRAIN 86000] Mean Q Loss: 0.4914105060994625 \n",
            "[TRAIN 87000] Mean Q Loss: 0.5008054697066545 \n",
            "[TRAIN 88000] Mean Q Loss: 0.4988815605938435 \n",
            "[TRAIN 89000] Mean Q Loss: 0.4841469584926963 \n",
            "[TRAIN 90000] Mean Q Loss: 0.49221227499097586 \n",
            "[TRAIN 91000] Mean Q Loss: 0.48847677313536403 \n",
            "[TRAIN 92000] Mean Q Loss: 0.49200956701487303 \n",
            "[TRAIN 93000] Mean Q Loss: 0.5043258876875043 \n",
            "[TRAIN 94000] Mean Q Loss: 0.4903423366695642 \n",
            "[TRAIN 95000] Mean Q Loss: 0.4865777450799942 \n",
            "[TRAIN 96000] Mean Q Loss: 0.4944241094142199 \n",
            "[TRAIN 97000] Mean Q Loss: 0.49684563648700714 \n",
            "[TRAIN 98000] Mean Q Loss: 0.4826179307550192 \n",
            "[TRAIN 99000] Mean Q Loss: 0.4804514735788107 \n"
          ]
        }
      ],
      "source": [
        "env = train_DQN_CQL(config, ENVS_REPLAY_BUFFER[0][2])"
      ]
    },
    {
      "cell_type": "code",
      "execution_count": 29,
      "metadata": {},
      "outputs": [
        {
          "data": {
            "text/plain": [
              "MLP(\n",
              "  (layers): Sequential(\n",
              "    (0): Linear(in_features=16, out_features=64, bias=True)\n",
              "    (1): ReLU()\n",
              "    (2): Linear(in_features=64, out_features=32, bias=True)\n",
              "    (3): ReLU()\n",
              "    (4): Linear(in_features=32, out_features=4, bias=True)\n",
              "  )\n",
              ")"
            ]
          },
          "execution_count": 29,
          "metadata": {},
          "output_type": "execute_result"
        }
      ],
      "source": [
        "env = ENVS_REPLAY_BUFFER[0][1]\n",
        "model = MLP(env.observation_space.n, env.action_space.n, HIDDEN_SIZE)\n",
        "model.load_state_dict(torch.load(f\"trained_models/{ENVS_REPLAY_BUFFER[0][0]}CQL-DQN.pth\"))\n",
        "model.eval()  # Definir para modo de avaliação"
      ]
    },
    {
      "cell_type": "code",
      "execution_count": 30,
      "metadata": {},
      "outputs": [
        {
          "name": "stdout",
          "output_type": "stream",
          "text": [
            "[Episódio 0]\n",
            "[Episódio 1]\n",
            "[Episódio 2]\n",
            "[Episódio 3]\n",
            "[Episódio 4]\n",
            "[Episódio 5]\n",
            "[Episódio 6]\n",
            "[Episódio 7]\n",
            "[Episódio 8]\n",
            "[Episódio 9]\n",
            "[Episódio 10]\n",
            "[Episódio 11]\n",
            "[Episódio 12]\n",
            "[Episódio 13]\n",
            "[Episódio 14]\n",
            "[Episódio 15]\n",
            "[Episódio 16]\n",
            "[Episódio 17]\n",
            "[Episódio 18]\n",
            "[Episódio 19]\n",
            "[Episódio 20]\n",
            "[Episódio 21]\n",
            "[Episódio 22]\n",
            "[Episódio 23]\n",
            "[Episódio 24]\n",
            "[Episódio 25]\n",
            "[Episódio 26]\n",
            "[Episódio 27]\n",
            "[Episódio 28]\n",
            "[Episódio 29]\n",
            "[Episódio 30]\n",
            "[Episódio 31]\n",
            "[Episódio 32]\n",
            "[Episódio 33]\n",
            "[Episódio 34]\n",
            "[Episódio 35]\n",
            "[Episódio 36]\n",
            "[Episódio 37]\n",
            "[Episódio 38]\n",
            "[Episódio 39]\n",
            "[Episódio 40]\n",
            "[Episódio 41]\n",
            "[Episódio 42]\n",
            "[Episódio 43]\n",
            "[Episódio 44]\n",
            "[Episódio 45]\n",
            "[Episódio 46]\n",
            "[Episódio 47]\n",
            "[Episódio 48]\n",
            "[Episódio 49]\n",
            "Média de recompensa após 50 episódios: 0.04\n"
          ]
        }
      ],
      "source": [
        "evaluate(config, env, model)"
      ]
    },
    {
      "cell_type": "code",
      "execution_count": 31,
      "metadata": {},
      "outputs": [
        {
          "data": {
            "text/html": [
              "<video alt=\"videos\\cql_FrozenLake-v1-episode-0.mp4\" autoplay \n",
              "                    loop controls style=\"height: 400px;\">\n",
              "                    <source src=\"data:video/mp4;base64,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\" type=\"video/mp4\" />\n",
              "                    </video><br><video alt=\"videos\\cql_FrozenLake-v1-episode-1.mp4\" autoplay \n",
              "                    loop controls style=\"height: 400px;\">\n",
              "                    <source src=\"data:video/mp4;base64,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\" type=\"video/mp4\" />\n",
              "                    </video>"
            ],
            "text/plain": [
              "<IPython.core.display.HTML object>"
            ]
          },
          "metadata": {},
          "output_type": "display_data"
        },
        {
          "data": {
            "text/html": [
              "\n",
              "        <script>\n",
              "        var videos = document.getElementsByTagName('video');\n",
              "        for (var i = 0; i < videos.length; i++) {\n",
              "            videos[i].playbackRate = 1.0;\n",
              "        }\n",
              "        </script>\n",
              "        "
            ],
            "text/plain": [
              "<IPython.core.display.HTML object>"
            ]
          },
          "metadata": {},
          "output_type": "display_data"
        }
      ],
      "source": [
        "extract_and_display(model, ENVS_REPLAY_BUFFER[0][0])"
      ]
    },
    {
      "cell_type": "markdown",
      "metadata": {},
      "source": [
        "## Taxi"
      ]
    },
    {
      "cell_type": "code",
      "execution_count": null,
      "metadata": {},
      "outputs": [],
      "source": [
        "COUNT_EPISODES = 50\n",
        "SEED = 777\n",
        "BATCH_SIZE = 256\n",
        "STEPS = 300_000\n",
        "GAMMA = 0.97  # Fator de desconto\n",
        "TAU = 1e-2      # Taxa de atualização da target_network\n",
        "ALPHA = 1.      # Peso do termo CQL\n",
        "APLHA_DECAY = ALPHA / (0.85 * STEPS)\n",
        "LEARNING_RATE = 5e-4  # Taxa de aprendizado para o otimizador\n",
        "HIDDEN_SIZE = [512, 256]\n",
        "ISDISCRETE = True\n",
        "# Extra:"
      ]
    },
    {
      "cell_type": "code",
      "execution_count": null,
      "metadata": {},
      "outputs": [],
      "source": [
        "ENVS_REPLAY_BUFFER[1][2].batch_size = BATCH_SIZE"
      ]
    },
    {
      "cell_type": "code",
      "execution_count": null,
      "metadata": {},
      "outputs": [],
      "source": [
        "config = get_config(ENVS_REPLAY_BUFFER[1][0], COUNT_EPISODES, SEED, GAMMA, TAU, ALPHA, APLHA_DECAY, LEARNING_RATE, STEPS, HIDDEN_SIZE, ISDISCRETE)"
      ]
    },
    {
      "cell_type": "code",
      "execution_count": null,
      "metadata": {},
      "outputs": [],
      "source": [
        "env = train_DQN_CQL(config, ENVS_REPLAY_BUFFER[1][2])"
      ]
    },
    {
      "cell_type": "code",
      "execution_count": null,
      "metadata": {},
      "outputs": [],
      "source": [
        "env = ENVS_REPLAY_BUFFER[1][1]\n",
        "model = MLP(env.observation_space.n, env.action_space.n, HIDDEN_SIZE)\n",
        "model.load_state_dict(torch.load(f\"trained_models/{ENVS_REPLAY_BUFFER[1][0]}CQL-DQN.pth\"))\n",
        "model.eval()  # Definir para modo de avaliação"
      ]
    },
    {
      "cell_type": "code",
      "execution_count": null,
      "metadata": {},
      "outputs": [],
      "source": [
        "evaluate(config, env, model)"
      ]
    },
    {
      "cell_type": "code",
      "execution_count": null,
      "metadata": {},
      "outputs": [],
      "source": [
        "extract_and_display(model, ENVS_REPLAY_BUFFER[1][0])"
      ]
    },
    {
      "cell_type": "markdown",
      "metadata": {},
      "source": [
        "## Cliffwalking"
      ]
    },
    {
      "cell_type": "code",
      "execution_count": 22,
      "metadata": {},
      "outputs": [],
      "source": [
        "COUNT_EPISODES = 50\n",
        "SEED = 777\n",
        "BATCH_SIZE = 128\n",
        "STEPS = 200_000\n",
        "GAMMA = 0.98  # Fator de desconto\n",
        "TAU = 5e-3      # Taxa de atualização da target_network\n",
        "ALPHA = 1      # Peso do termo CQL\n",
        "APLHA_DECAY = ALPHA / (0.85 * STEPS)\n",
        "LEARNING_RATE = 5e-4  # Taxa de aprendizado para o otimizador\n",
        "HIDDEN_SIZE = [256, 64]  # Tamanho da camada oculta\n",
        "ISDISCRETE = True\n",
        "# Extra:"
      ]
    },
    {
      "cell_type": "code",
      "execution_count": 23,
      "metadata": {},
      "outputs": [],
      "source": [
        "ENVS_REPLAY_BUFFER[2][2].batch_size = BATCH_SIZE"
      ]
    },
    {
      "cell_type": "code",
      "execution_count": 24,
      "metadata": {},
      "outputs": [],
      "source": [
        "config = get_config(ENVS_REPLAY_BUFFER[2][0], COUNT_EPISODES, SEED, GAMMA, TAU, ALPHA, APLHA_DECAY, LEARNING_RATE, STEPS, HIDDEN_SIZE, ISDISCRETE)"
      ]
    },
    {
      "cell_type": "code",
      "execution_count": 25,
      "metadata": {},
      "outputs": [
        {
          "name": "stdout",
          "output_type": "stream",
          "text": [
            "[TRAIN 0] Mean Q Loss: 1.926201343536377 \n",
            "[TRAIN 1000] Mean Q Loss: 1.983913958787918 \n",
            "[TRAIN 2000] Mean Q Loss: 1.927588945865631 \n",
            "[TRAIN 3000] Mean Q Loss: 1.9713338413238526 \n",
            "[TRAIN 4000] Mean Q Loss: 1.9950470522642136 \n",
            "[TRAIN 5000] Mean Q Loss: 2.019177780747414 \n",
            "[TRAIN 6000] Mean Q Loss: 2.086139222860336 \n",
            "[TRAIN 7000] Mean Q Loss: 2.0743441016674042 \n",
            "[TRAIN 8000] Mean Q Loss: 2.139035302042961 \n"
          ]
        },
        {
          "ename": "KeyboardInterrupt",
          "evalue": "",
          "output_type": "error",
          "traceback": [
            "\u001b[1;31m---------------------------------------------------------------------------\u001b[0m",
            "\u001b[1;31mKeyboardInterrupt\u001b[0m                         Traceback (most recent call last)",
            "Cell \u001b[1;32mIn[25], line 1\u001b[0m\n\u001b[1;32m----> 1\u001b[0m env \u001b[38;5;241m=\u001b[39m \u001b[43mtrain_DQN_CQL\u001b[49m\u001b[43m(\u001b[49m\u001b[43mconfig\u001b[49m\u001b[43m,\u001b[49m\u001b[43m \u001b[49m\u001b[43mENVS_REPLAY_BUFFER\u001b[49m\u001b[43m[\u001b[49m\u001b[38;5;241;43m2\u001b[39;49m\u001b[43m]\u001b[49m\u001b[43m[\u001b[49m\u001b[38;5;241;43m2\u001b[39;49m\u001b[43m]\u001b[49m\u001b[43m)\u001b[49m\n",
            "Cell \u001b[1;32mIn[8], line 14\u001b[0m, in \u001b[0;36mtrain_DQN_CQL\u001b[1;34m(config, buffer)\u001b[0m\n\u001b[0;32m     12\u001b[0m     agent \u001b[38;5;241m=\u001b[39m CQLAgent(env\u001b[38;5;241m.\u001b[39mobservation_space\u001b[38;5;241m.\u001b[39mshape[\u001b[38;5;241m0\u001b[39m], env\u001b[38;5;241m.\u001b[39maction_space\u001b[38;5;241m.\u001b[39mn, config\u001b[38;5;241m.\u001b[39mtau, config\u001b[38;5;241m.\u001b[39mgamma, config\u001b[38;5;241m.\u001b[39mlr, config\u001b[38;5;241m.\u001b[39malpha, config\u001b[38;5;241m.\u001b[39malpha_decay, config\u001b[38;5;241m.\u001b[39mhidden_size, device, config\u001b[38;5;241m.\u001b[39misDiscrete)\n\u001b[0;32m     13\u001b[0m \u001b[38;5;28;01mfor\u001b[39;00m i \u001b[38;5;129;01min\u001b[39;00m \u001b[38;5;28mrange\u001b[39m(config\u001b[38;5;241m.\u001b[39msteps):\n\u001b[1;32m---> 14\u001b[0m     loss, cql_loss, bellmann_error \u001b[38;5;241m=\u001b[39m \u001b[43magent\u001b[49m\u001b[38;5;241;43m.\u001b[39;49m\u001b[43mlearn\u001b[49m\u001b[43m(\u001b[49m\u001b[43mbuffer\u001b[49m\u001b[38;5;241;43m.\u001b[39;49m\u001b[43msample_continuous\u001b[49m\u001b[43m(\u001b[49m\u001b[43m)\u001b[49m\u001b[43m)\u001b[49m\n\u001b[0;32m     15\u001b[0m     losses\u001b[38;5;241m.\u001b[39mappend(loss)\n\u001b[0;32m     16\u001b[0m     agent\u001b[38;5;241m.\u001b[39malpha \u001b[38;5;241m=\u001b[39m \u001b[38;5;28mmax\u001b[39m(\u001b[38;5;241m0.3\u001b[39m, agent\u001b[38;5;241m.\u001b[39malpha \u001b[38;5;241m-\u001b[39m agent\u001b[38;5;241m.\u001b[39malpha_decay)         \n",
            "File \u001b[1;32md:\\Luiz\\Faculdade\\RL\\OffRL\\util\\network.py:210\u001b[0m, in \u001b[0;36mCQLAgent.learn\u001b[1;34m(self, experiences)\u001b[0m\n\u001b[0;32m    208\u001b[0m \u001b[38;5;28;01mdef\u001b[39;00m\u001b[38;5;250m \u001b[39m\u001b[38;5;21mlearn\u001b[39m(\u001b[38;5;28mself\u001b[39m, experiences):\n\u001b[0;32m    209\u001b[0m     \u001b[38;5;28mself\u001b[39m\u001b[38;5;241m.\u001b[39mnetwork\u001b[38;5;241m.\u001b[39mtrain()\n\u001b[1;32m--> 210\u001b[0m     bellman_error, Q_a_s, actions \u001b[38;5;241m=\u001b[39m \u001b[38;5;28;43mself\u001b[39;49m\u001b[38;5;241;43m.\u001b[39;49m\u001b[43mbellman_error\u001b[49m\u001b[43m(\u001b[49m\u001b[43mexperiences\u001b[49m\u001b[43m)\u001b[49m\n\u001b[0;32m    212\u001b[0m     cql1_loss \u001b[38;5;241m=\u001b[39m \u001b[38;5;28mself\u001b[39m\u001b[38;5;241m.\u001b[39mcql_loss(Q_a_s, actions)\n\u001b[0;32m    213\u001b[0m     q1_loss \u001b[38;5;241m=\u001b[39m cql1_loss \u001b[38;5;241m+\u001b[39m \u001b[38;5;28mself\u001b[39m\u001b[38;5;241m.\u001b[39malpha \u001b[38;5;241m*\u001b[39m bellman_error\n",
            "File \u001b[1;32md:\\Luiz\\Faculdade\\RL\\OffRL\\util\\network.py:164\u001b[0m, in \u001b[0;36mAgent.bellman_error\u001b[1;34m(self, experiences)\u001b[0m\n\u001b[0;32m    159\u001b[0m states, actions, rewards, dones, next_states \u001b[38;5;241m=\u001b[39m experiences\n\u001b[0;32m    160\u001b[0m \u001b[38;5;66;03m#print(f\"Actions Antes: {actions}\")\u001b[39;00m\n\u001b[0;32m    161\u001b[0m \u001b[38;5;66;03m#print(f\"States Antes: {states}\")\u001b[39;00m\n\u001b[0;32m    162\u001b[0m \u001b[38;5;66;03m#print(f\"Dones Antes: {dones}\")\u001b[39;00m\n\u001b[0;32m    163\u001b[0m \u001b[38;5;66;03m#print(f\"next_States Antes: {next_states}\")\u001b[39;00m\n\u001b[1;32m--> 164\u001b[0m actions \u001b[38;5;241m=\u001b[39m \u001b[43mtorch\u001b[49m\u001b[38;5;241;43m.\u001b[39;49m\u001b[43mtensor\u001b[49m\u001b[43m(\u001b[49m\u001b[43mactions\u001b[49m\u001b[43m,\u001b[49m\u001b[43m \u001b[49m\u001b[43mdtype\u001b[49m\u001b[38;5;241;43m=\u001b[39;49m\u001b[43mtorch\u001b[49m\u001b[38;5;241;43m.\u001b[39;49m\u001b[43mint64\u001b[49m\u001b[43m)\u001b[49m\n\u001b[0;32m    165\u001b[0m rewards \u001b[38;5;241m=\u001b[39m torch\u001b[38;5;241m.\u001b[39mtensor(rewards)\n\u001b[0;32m    166\u001b[0m dones \u001b[38;5;241m=\u001b[39m torch\u001b[38;5;241m.\u001b[39mtensor(dones, dtype\u001b[38;5;241m=\u001b[39mtorch\u001b[38;5;241m.\u001b[39mbool)\n",
            "\u001b[1;31mKeyboardInterrupt\u001b[0m: "
          ]
        }
      ],
      "source": [
        "env = train_DQN_CQL(config, ENVS_REPLAY_BUFFER[2][2])"
      ]
    },
    {
      "cell_type": "code",
      "execution_count": null,
      "metadata": {},
      "outputs": [],
      "source": [
        "env = ENVS_REPLAY_BUFFER[2][1]\n",
        "model = MLP(env.observation_space.n, env.action_space.n, HIDDEN_SIZE)\n",
        "model.load_state_dict(torch.load(f\"trained_models/{ENVS_REPLAY_BUFFER[2][0]}CQL-DQN.pth\"))\n",
        "model.eval()  # Definir para modo de avaliação"
      ]
    },
    {
      "cell_type": "code",
      "execution_count": null,
      "metadata": {},
      "outputs": [],
      "source": [
        "evaluate(config, env, model)"
      ]
    },
    {
      "cell_type": "code",
      "execution_count": null,
      "metadata": {},
      "outputs": [],
      "source": [
        "extract_and_display(model, ENVS_REPLAY_BUFFER[2][0])"
      ]
    },
    {
      "cell_type": "markdown",
      "metadata": {},
      "source": [
        "## CartPole"
      ]
    },
    {
      "cell_type": "code",
      "execution_count": null,
      "metadata": {},
      "outputs": [],
      "source": [
        "COUNT_EPISODES = 50\n",
        "SEED = 777\n",
        "BATCH_SIZE = 256\n",
        "STEPS = 50_000\n",
        "GAMMA = 0.99  # Fator de desconto\n",
        "TAU = 5e-3      # Taxa de atualização da target_network\n",
        "ALPHA = 0.5     # Peso do termo CQL\n",
        "APLHA_DECAY = ALPHA / (0.85 * STEPS)\n",
        "LEARNING_RATE = 1e-4  # Taxa de aprendizado para o otimizador\n",
        "HIDDEN_SIZE = [256, 128]\n",
        "ISDISCRETE = False\n",
        "# Extra:"
      ]
    },
    {
      "cell_type": "code",
      "execution_count": null,
      "metadata": {},
      "outputs": [],
      "source": [
        "ENVS_REPLAY_BUFFER[3][2].batch_size = BATCH_SIZE"
      ]
    },
    {
      "cell_type": "code",
      "execution_count": null,
      "metadata": {},
      "outputs": [],
      "source": [
        "config = get_config(ENVS_REPLAY_BUFFER[3][0], COUNT_EPISODES, SEED, GAMMA, TAU, ALPHA, APLHA_DECAY, LEARNING_RATE, STEPS, HIDDEN_SIZE, ISDISCRETE)"
      ]
    },
    {
      "cell_type": "code",
      "execution_count": null,
      "metadata": {},
      "outputs": [],
      "source": [
        "ENVS_REPLAY_BUFFER[3][2].memory"
      ]
    },
    {
      "cell_type": "code",
      "execution_count": null,
      "metadata": {},
      "outputs": [],
      "source": [
        "env = train_DQN_CQL(config, ENVS_REPLAY_BUFFER[3][2])"
      ]
    },
    {
      "cell_type": "code",
      "execution_count": null,
      "metadata": {},
      "outputs": [],
      "source": [
        "env = ENVS_REPLAY_BUFFER[3][1]\n",
        "model = MLP(env.observation_space.shape[0], env.action_space.n, HIDDEN_SIZE)\n",
        "model.load_state_dict(torch.load(f\"trained_models/{ENVS_REPLAY_BUFFER[3][0]}CQL-DQN.pth\"))\n",
        "model.eval()  # Definir para modo de avaliação"
      ]
    },
    {
      "cell_type": "code",
      "execution_count": null,
      "metadata": {},
      "outputs": [],
      "source": [
        "evaluate_Continuous(config, env, model)"
      ]
    },
    {
      "cell_type": "code",
      "execution_count": null,
      "metadata": {},
      "outputs": [],
      "source": [
        "#extract_and_display(model, ENVS_REPLAY_BUFFER[3][0])\n",
        "render_environment(model, ENVS_REPLAY_BUFFER[3][0])"
      ]
    },
    {
      "cell_type": "markdown",
      "metadata": {},
      "source": [
        "## LunarLander"
      ]
    },
    {
      "cell_type": "code",
      "execution_count": null,
      "metadata": {},
      "outputs": [],
      "source": [
        "COUNT_EPISODES = 50\n",
        "SEED = 777\n",
        "BATCH_SIZE = 256\n",
        "STEPS = 50_000\n",
        "GAMMA = 0.99  # Fator de desconto\n",
        "TAU = 5e-3      # Taxa de atualização da target_network\n",
        "ALPHA = 0.5     # Peso do termo CQL\n",
        "APLHA_DECAY = ALPHA / (0.85 * STEPS)\n",
        "LEARNING_RATE = 1e-4  # Taxa de aprendizado para o otimizador\n",
        "HIDDEN_SIZE = [256, 256]\n",
        "ISDISCRETE = False\n",
        "# Extra:"
      ]
    },
    {
      "cell_type": "code",
      "execution_count": null,
      "metadata": {},
      "outputs": [],
      "source": [
        "ENVS_REPLAY_BUFFER[4][2].batch_size = BATCH_SIZE"
      ]
    },
    {
      "cell_type": "code",
      "execution_count": null,
      "metadata": {},
      "outputs": [],
      "source": [
        "config = get_config(ENVS_REPLAY_BUFFER[4][0], COUNT_EPISODES, SEED, GAMMA, TAU, ALPHA, APLHA_DECAY, LEARNING_RATE, STEPS, HIDDEN_SIZE, ISDISCRETE)"
      ]
    },
    {
      "cell_type": "code",
      "execution_count": null,
      "metadata": {},
      "outputs": [],
      "source": [
        "env = train_DQN_CQL(config, ENVS_REPLAY_BUFFER[4][2])"
      ]
    },
    {
      "cell_type": "code",
      "execution_count": null,
      "metadata": {},
      "outputs": [],
      "source": [
        "env = ENVS_REPLAY_BUFFER[4][1]\n",
        "model = MLP(env.observation_space.shape[0], env.action_space.n, HIDDEN_SIZE)\n",
        "model.load_state_dict(torch.load(f\"trained_models/{ENVS_REPLAY_BUFFER[4][0]}CQL-DQN.pth\"))\n",
        "model.eval()  # Definir para modo de avaliação"
      ]
    },
    {
      "cell_type": "code",
      "execution_count": null,
      "metadata": {},
      "outputs": [],
      "source": [
        "evaluate_Continuous(config, env, model)"
      ]
    },
    {
      "cell_type": "code",
      "execution_count": null,
      "metadata": {},
      "outputs": [],
      "source": [
        "#extract_and_display(model, ENVS_REPLAY_BUFFER[3][0])\n",
        "render_environment(model, ENVS_REPLAY_BUFFER[4][0])"
      ]
    }
  ],
  "metadata": {
    "colab": {
      "collapsed_sections": [
        "_PjVle_uaC34"
      ],
      "provenance": []
    },
    "kernelspec": {
      "display_name": "venv",
      "language": "python",
      "name": "python3"
    },
    "language_info": {
      "codemirror_mode": {
        "name": "ipython",
        "version": 3
      },
      "file_extension": ".py",
      "mimetype": "text/x-python",
      "name": "python",
      "nbconvert_exporter": "python",
      "pygments_lexer": "ipython3",
      "version": "3.10.11"
    }
  },
  "nbformat": 4,
  "nbformat_minor": 0
}
