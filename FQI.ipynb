{
  "cells": [
    {
      "cell_type": "markdown",
      "metadata": {},
      "source": [
        "# Instalando dependências"
      ]
    },
    {
      "cell_type": "code",
      "execution_count": null,
      "metadata": {
        "id": "7w0BqRMVqAGK"
      },
      "outputs": [],
      "source": [
        "from IPython.display import clear_output\n",
        "import sys\n",
        "\n",
        "IN_COLAB = 'google.colab' in sys.modules"
      ]
    },
    {
      "cell_type": "code",
      "execution_count": null,
      "metadata": {
        "id": "aKTfNBr1y_vY"
      },
      "outputs": [],
      "source": [
        "if IN_COLAB:\n",
        "    !git clone https://github.com/LucaLemos/UFRPE_AprendizagemReforco\n",
        "    sys.path.append(\"/content/UFRPE_AprendizagemReforco\")\n",
        "\n",
        "    clear_output()\n",
        "else:\n",
        "    from os import path\n",
        "    sys.path.append( path.dirname( path.dirname( path.abspath(\"__main__\") ) ) )"
      ]
    },
    {
      "cell_type": "code",
      "execution_count": null,
      "metadata": {
        "colab": {
          "base_uri": "https://localhost:8080/"
        },
        "id": "SSqFlN1Cpqlc",
        "outputId": "dc2f6c29-5837-4551-b9b6-ec11f188bcb0"
      },
      "outputs": [],
      "source": [
        "if IN_COLAB:\n",
        "    # for saving videos\n",
        "    !apt-get install ffmpeg\n",
        "    !pip install gymnasium==1.0.0   # conferir se precisa\n",
        "    #!pip install tianshou # Para criar o Replay_Buffer\n",
        "    #!pip install d3rlpy==2.7.0\n",
        "    # clone repository"
      ]
    },
    {
      "cell_type": "markdown",
      "metadata": {},
      "source": [
        "# Criando Dataset"
      ]
    },
    {
      "cell_type": "code",
      "execution_count": 1,
      "metadata": {},
      "outputs": [],
      "source": [
        "import gymnasium as gym\n",
        "import torch\n",
        "from util.algorithms import run_sarsa\n",
        "from util.network import ReplayBuffer, MLP, epsilon_greedy_qnet, calc_loss\n",
        "from IPython.display import clear_output"
      ]
    },
    {
      "cell_type": "code",
      "execution_count": 2,
      "metadata": {},
      "outputs": [],
      "source": [
        "DATASET_SIZE = 200_000  # Tamanho do conjunto de dados (replay buffer)\n",
        "LEARNING_RATE = 1e-3  # Taxa de aprendizado para o otimizador\n",
        "GAMMA = 0.99  # Fator de desconto\n",
        "BATCH_SIZE = 128  # Tamanho do batch para treinamento da rede neural"
      ]
    },
    {
      "cell_type": "code",
      "execution_count": 3,
      "metadata": {},
      "outputs": [],
      "source": [
        "ENV_NAMES = []\n",
        "ENVS_REPLAY_BUFFER = []"
      ]
    },
    {
      "cell_type": "markdown",
      "metadata": {},
      "source": [
        "## Dataset Básico"
      ]
    },
    {
      "cell_type": "code",
      "execution_count": 4,
      "metadata": {},
      "outputs": [
        {
          "name": "stdout",
          "output_type": "stream",
          "text": [
            "Run sarsa in <TimeLimit<OrderEnforcing<PassiveEnvChecker<FrozenLakeEnv<FrozenLake-v1>>>>>\n",
            "Episódio 0 terminou com recompensa 0.0 na transição 11\n",
            "Episódio 100 terminou com recompensa 0.0 na transição 1547\n",
            "Episódio 200 terminou com recompensa 0.0 na transição 3180\n",
            "Episódio 300 terminou com recompensa 0.0 na transição 4765\n",
            "Episódio 400 terminou com recompensa 0.0 na transição 6048\n",
            "Episódio 500 terminou com recompensa 0.0 na transição 7503\n",
            "Episódio 600 terminou com recompensa 0.0 na transição 9072\n",
            "Episódio 700 terminou com recompensa 0.0 na transição 10708\n",
            "Episódio 800 terminou com recompensa 0.0 na transição 12332\n",
            "Episódio 900 terminou com recompensa 0.0 na transição 13714\n",
            "Episódio 1000 terminou com recompensa 0.0 na transição 15237\n",
            "Episódio 1100 terminou com recompensa 0.0 na transição 16808\n",
            "Episódio 1200 terminou com recompensa 0.0 na transição 18412\n",
            "Episódio 1300 terminou com recompensa 0.0 na transição 20096\n",
            "Episódio 1400 terminou com recompensa 0.0 na transição 21850\n",
            "Episódio 1500 terminou com recompensa 0.0 na transição 23307\n",
            "Episódio 1600 terminou com recompensa 0.0 na transição 24882\n",
            "Episódio 1700 terminou com recompensa 0.0 na transição 26267\n",
            "Episódio 1800 terminou com recompensa 0.0 na transição 27812\n",
            "Episódio 1900 terminou com recompensa 0.0 na transição 29597\n",
            "Episódio 2000 terminou com recompensa 0.0 na transição 31045\n",
            "Episódio 2100 terminou com recompensa 0.0 na transição 32599\n",
            "Episódio 2200 terminou com recompensa 0.0 na transição 34126\n",
            "Episódio 2300 terminou com recompensa 0.0 na transição 35539\n",
            "Episódio 2400 terminou com recompensa 0.0 na transição 36910\n",
            "Episódio 2500 terminou com recompensa 0.0 na transição 38419\n",
            "Episódio 2600 terminou com recompensa 0.0 na transição 39802\n",
            "Episódio 2700 terminou com recompensa 0.0 na transição 41342\n",
            "Episódio 2800 terminou com recompensa 0.0 na transição 42761\n",
            "Episódio 2900 terminou com recompensa 0.0 na transição 44437\n",
            "Episódio 3000 terminou com recompensa 0.0 na transição 45833\n",
            "Episódio 3100 terminou com recompensa 0.0 na transição 47319\n",
            "Episódio 3200 terminou com recompensa 0.0 na transição 48774\n",
            "Episódio 3300 terminou com recompensa 0.0 na transição 50237\n",
            "Episódio 3400 terminou com recompensa 0.0 na transição 51969\n",
            "Episódio 3500 terminou com recompensa 0.0 na transição 53462\n",
            "Episódio 3600 terminou com recompensa 0.0 na transição 55079\n",
            "Episódio 3700 terminou com recompensa 0.0 na transição 56572\n",
            "Episódio 3800 terminou com recompensa 0.0 na transição 57984\n",
            "Episódio 3900 terminou com recompensa 0.0 na transição 59669\n",
            "Episódio 4000 terminou com recompensa 0.0 na transição 61327\n",
            "Episódio 4100 terminou com recompensa 0.0 na transição 62878\n",
            "Episódio 4200 terminou com recompensa 0.0 na transição 64310\n",
            "Episódio 4300 terminou com recompensa 0.0 na transição 65980\n",
            "Episódio 4400 terminou com recompensa 0.0 na transição 67362\n",
            "Episódio 4500 terminou com recompensa 0.0 na transição 68763\n",
            "Episódio 4600 terminou com recompensa 0.0 na transição 70223\n",
            "Episódio 4700 terminou com recompensa 0.0 na transição 71967\n",
            "Episódio 4800 terminou com recompensa 0.0 na transição 73278\n",
            "Episódio 4900 terminou com recompensa 0.0 na transição 74992\n",
            "Episódio 5000 terminou com recompensa 0.0 na transição 76583\n",
            "Episódio 5100 terminou com recompensa 0.0 na transição 78053\n",
            "Episódio 5200 terminou com recompensa 0.0 na transição 79599\n",
            "Episódio 5300 terminou com recompensa 0.0 na transição 81148\n",
            "Episódio 5400 terminou com recompensa 0.0 na transição 82525\n",
            "Episódio 5500 terminou com recompensa 0.0 na transição 83977\n",
            "Episódio 5600 terminou com recompensa 0.0 na transição 85677\n",
            "Episódio 5700 terminou com recompensa 0.0 na transição 87032\n",
            "Episódio 5800 terminou com recompensa 0.0 na transição 88562\n",
            "Episódio 5900 terminou com recompensa 0.0 na transição 90185\n",
            "Episódio 6000 terminou com recompensa 0.0 na transição 91603\n",
            "Episódio 6100 terminou com recompensa 0.0 na transição 93106\n",
            "Episódio 6200 terminou com recompensa 0.0 na transição 94787\n",
            "Episódio 6300 terminou com recompensa 0.0 na transição 96045\n",
            "Episódio 6400 terminou com recompensa 0.0 na transição 97537\n",
            "Episódio 6500 terminou com recompensa 0.0 na transição 98995\n",
            "Episódio 6600 terminou com recompensa 0.0 na transição 100561\n",
            "Episódio 6700 terminou com recompensa 0.0 na transição 102058\n",
            "Episódio 6800 terminou com recompensa 0.0 na transição 103517\n",
            "Episódio 6900 terminou com recompensa 0.0 na transição 105091\n",
            "Episódio 7000 terminou com recompensa 0.0 na transição 106633\n",
            "Episódio 7100 terminou com recompensa 0.0 na transição 108260\n",
            "Episódio 7200 terminou com recompensa 0.0 na transição 109710\n",
            "Episódio 7300 terminou com recompensa 0.0 na transição 111051\n",
            "Episódio 7400 terminou com recompensa 0.0 na transição 112453\n",
            "Episódio 7500 terminou com recompensa 0.0 na transição 113809\n",
            "Episódio 7600 terminou com recompensa 0.0 na transição 115401\n",
            "Episódio 7700 terminou com recompensa 0.0 na transição 116811\n",
            "Episódio 7800 terminou com recompensa 0.0 na transição 118238\n",
            "Episódio 7900 terminou com recompensa 0.0 na transição 119548\n",
            "Episódio 8000 terminou com recompensa 0.0 na transição 121238\n",
            "Episódio 8100 terminou com recompensa 0.0 na transição 122639\n",
            "Episódio 8200 terminou com recompensa 0.0 na transição 124116\n",
            "Episódio 8300 terminou com recompensa 0.0 na transição 125460\n",
            "Episódio 8400 terminou com recompensa 0.0 na transição 127071\n",
            "Episódio 8500 terminou com recompensa 0.0 na transição 128471\n",
            "Episódio 8600 terminou com recompensa 0.0 na transição 129990\n",
            "Episódio 8700 terminou com recompensa 0.0 na transição 131740\n",
            "Episódio 8800 terminou com recompensa 0.0 na transição 133170\n",
            "Episódio 8900 terminou com recompensa 0.0 na transição 134544\n",
            "Episódio 9000 terminou com recompensa 0.0 na transição 135957\n",
            "Episódio 9100 terminou com recompensa 0.0 na transição 137360\n",
            "Episódio 9200 terminou com recompensa 0.0 na transição 139145\n",
            "Episódio 9300 terminou com recompensa 0.0 na transição 140664\n",
            "Episódio 9400 terminou com recompensa 0.0 na transição 142132\n",
            "Episódio 9500 terminou com recompensa 0.0 na transição 143569\n",
            "Episódio 9600 terminou com recompensa 0.0 na transição 145357\n",
            "Episódio 9700 terminou com recompensa 0.0 na transição 146852\n",
            "Episódio 9800 terminou com recompensa 0.0 na transição 148285\n",
            "Episódio 9900 terminou com recompensa 0.0 na transição 149693\n",
            "Episódio 10000 terminou com recompensa 0.0 na transição 151313\n",
            "Episódio 10100 terminou com recompensa 0.0 na transição 152704\n",
            "Episódio 10200 terminou com recompensa 0.0 na transição 154099\n",
            "Episódio 10300 terminou com recompensa 0.0 na transição 155453\n",
            "Episódio 10400 terminou com recompensa 0.0 na transição 157048\n",
            "Episódio 10500 terminou com recompensa 0.0 na transição 158441\n",
            "Episódio 10600 terminou com recompensa 0.0 na transição 159959\n",
            "Episódio 10700 terminou com recompensa 0.0 na transição 161450\n",
            "Episódio 10800 terminou com recompensa 0.0 na transição 163080\n",
            "Episódio 10900 terminou com recompensa 0.0 na transição 164524\n",
            "Episódio 11000 terminou com recompensa 0.0 na transição 165916\n",
            "Episódio 11100 terminou com recompensa 0.0 na transição 167419\n",
            "Episódio 11200 terminou com recompensa 0.0 na transição 168752\n",
            "Episódio 11300 terminou com recompensa 0.0 na transição 170395\n",
            "Episódio 11400 terminou com recompensa 0.0 na transição 171880\n",
            "Episódio 11500 terminou com recompensa 0.0 na transição 173391\n",
            "Episódio 11600 terminou com recompensa 0.0 na transição 174962\n",
            "Episódio 11700 terminou com recompensa 0.0 na transição 176364\n",
            "Episódio 11800 terminou com recompensa 0.0 na transição 177821\n",
            "Episódio 11900 terminou com recompensa 0.0 na transição 179604\n",
            "Episódio 12000 terminou com recompensa 0.0 na transição 181089\n",
            "Episódio 12100 terminou com recompensa 0.0 na transição 182415\n",
            "Episódio 12200 terminou com recompensa 0.0 na transição 184045\n",
            "Episódio 12300 terminou com recompensa 0.0 na transição 185274\n",
            "Episódio 12400 terminou com recompensa 0.0 na transição 186859\n",
            "Episódio 12500 terminou com recompensa 0.0 na transição 188293\n",
            "Episódio 12600 terminou com recompensa 0.0 na transição 189564\n",
            "Episódio 12700 terminou com recompensa 0.0 na transição 191020\n",
            "Episódio 12800 terminou com recompensa 0.0 na transição 192629\n",
            "Episódio 12900 terminou com recompensa 0.0 na transição 193971\n",
            "Episódio 13000 terminou com recompensa 0.0 na transição 195588\n",
            "Episódio 13100 terminou com recompensa 0.0 na transição 197018\n",
            "Episódio 13200 terminou com recompensa 0.0 na transição 198633\n",
            "Episódio 13300 terminou com recompensa 0.0 na transição 199985\n",
            "\n",
            "Run sarsa in <TimeLimit<OrderEnforcing<PassiveEnvChecker<TaxiEnv<Taxi-v3>>>>>\n",
            "Episódio 0 terminou com recompensa -740 na transição 199\n",
            "Episódio 100 terminou com recompensa -254 na transição 19778\n",
            "Episódio 200 terminou com recompensa -308 na transição 38748\n",
            "Episódio 300 terminou com recompensa -299 na transição 57921\n",
            "Episódio 400 terminou com recompensa -245 na transição 76837\n",
            "Episódio 500 terminou com recompensa -254 na transição 96248\n",
            "Episódio 600 terminou com recompensa -263 na transição 115404\n",
            "Episódio 700 terminou com recompensa -263 na transição 134626\n",
            "Episódio 800 terminou com recompensa -245 na transição 153925\n",
            "Episódio 900 terminou com recompensa -281 na transição 172733\n",
            "Episódio 1000 terminou com recompensa -173 na transição 191631\n",
            "\n",
            "Run sarsa in <OrderEnforcing<PassiveEnvChecker<CliffWalkingEnv<CliffWalking-v0>>>>\n",
            "Episódio 0 terminou com recompensa -80 na transição 79\n",
            "Episódio 100 terminou com recompensa -831 na transição 50370\n",
            "Episódio 200 terminou com recompensa -337 na transição 86321\n",
            "Episódio 300 terminou com recompensa -653 na transição 113683\n",
            "Episódio 400 terminou com recompensa -851 na transição 137726\n",
            "Episódio 500 terminou com recompensa -172 na transição 159575\n",
            "Episódio 600 terminou com recompensa -36 na transição 180147\n",
            "Episódio 700 terminou com recompensa -297 na transição 198368\n",
            "\n"
          ]
        }
      ],
      "source": [
        "# Passo 1: Coletar um conjunto fixo de transições (Replay Buffer)\n",
        "# Ambientes Básicos\n",
        "ENV_NAMES += [\"FrozenLake-v1\", \"Taxi-v3\", \"CliffWalking-v0\"]\n",
        "for i, env_name in enumerate(ENV_NAMES):\n",
        "    device = torch.device(\"cuda:0\" if torch.cuda.is_available() else \"cpu\")\n",
        "    replay_buffer = ReplayBuffer(DATASET_SIZE, BATCH_SIZE, device)\n",
        "    env = gym.make(env_name, render_mode=\"rgb_array\")\n",
        "    \n",
        "    sum_rewards_per_ep, q = run_sarsa(env, replay_buffer, DATASET_SIZE, LEARNING_RATE, GAMMA)\n",
        "    ENVS_REPLAY_BUFFER.append((env_name, env, replay_buffer, sum_rewards_per_ep, q))\n",
        "    replay_buffer.save_config(f\"config\\dataset\\sarsa\\{env_name}.json\")\n"
      ]
    },
    {
      "cell_type": "markdown",
      "metadata": {},
      "source": [
        "## Dataset com Rede Neural"
      ]
    },
    {
      "cell_type": "code",
      "execution_count": null,
      "metadata": {},
      "outputs": [],
      "source": [
        "from torch import optim, nn\n",
        "import numpy as np"
      ]
    },
    {
      "cell_type": "code",
      "execution_count": null,
      "metadata": {},
      "outputs": [],
      "source": [
        "def DQN_TRAIN(env, env_name, gamma, qnet, qnet_lr, target_qnet, target_update_freq, replay_buffer, batch_size, epsilon_f, epsilon_decay_period, transitions):\n",
        "    # Cria o otimizador, que vai fazer o ajuste dos pesos da 'qnet',\n",
        "    # Usa uma técnica de gradiente descendente de destaque, chamada ADAM\n",
        "    optimizer = optim.Adam(qnet.parameters(), lr=qnet_lr)\n",
        "\n",
        "    episode_reward_list = []\n",
        "    step = 0\n",
        "    epsilon = 1.0\n",
        "\n",
        "    state, _ = env.reset()\n",
        "    episode_reward = 0.0\n",
        "\n",
        "    for _ in range(transitions):\n",
        "        # Decaimento linear do epsilon\n",
        "        epsilon = max(epsilon_f, 1.0 - step / epsilon_decay_period)\n",
        "\n",
        "        action = epsilon_greedy_qnet(qnet, env, state, epsilon)\n",
        "\n",
        "        # Faz um passo / Aplica uma ação no ambiente\n",
        "        new_state, reward, terminated, truncated, _ = env.step(action)\n",
        "\n",
        "        step += 1\n",
        "        done = terminated or truncated\n",
        "        episode_reward += reward\n",
        "\n",
        "        # Adiciona no buffer\n",
        "        replay_buffer.add(state, action, reward, terminated, new_state)\n",
        "        state = new_state\n",
        "\n",
        "        if done:\n",
        "            episode_reward_list.append(episode_reward)\n",
        "            if len(episode_reward_list) % 100 == 0:\n",
        "                mean_reward = np.mean(episode_reward_list[-100:])\n",
        "                print(f'Episode Reward: {episode_reward_list[-1]} | Epsilon: {epsilon} | Step: {step} | Mean Reward: {mean_reward}')\n",
        "            state, _ = env.reset()\n",
        "            episode_reward = 0.0\n",
        "\n",
        "            # Abaixo, faz vários loggings de dados\n",
        "            \n",
        "        # Faz a 'tgt_net' receber os mesmos valores de pesos da 'qnet', na frequência indicada\n",
        "        \n",
        "        if step > batch_size:\n",
        "            if step % target_update_freq == 0:\n",
        "                target_qnet.load_state_dict(qnet.state_dict())\n",
        "            # Escolhe amostras aleatórios do buffer e faz uma atualização dos pesos da rede\n",
        "            optimizer.zero_grad()\n",
        "            batch = replay_buffer.sample_continuous()\n",
        "            loss_t = calc_loss(batch, qnet, target_qnet, gamma)\n",
        "            loss_t.backward()\n",
        "            optimizer.step()\n",
        "            \n",
        "    mean_reward = np.mean(episode_reward_list[-100:])\n",
        "    print(f\"Mean_reward: {mean_reward}\")\n",
        "    filename = f\"./neural_dataset/{env_name}.pth\"\n",
        "    torch.save(qnet.state_dict(), filename)\n",
        "    print(f\"Model saved as {filename}\")"
      ]
    },
    {
      "cell_type": "code",
      "execution_count": null,
      "metadata": {},
      "outputs": [],
      "source": [
        "GOAL_REWARD = 200\n",
        "GAMMA = 0.999\n",
        "REPLAY_SIZE = 100_000\n",
        "BATCH_SIZE = 32\n",
        "LEARNING_RATE = 1e-3\n",
        "SYNC_TARGET_FRAMES = 1_000\n",
        "\n",
        "EPSILON_DECAY_PERIOD = 75_000\n",
        "EPSILON_FINAL = 2e-2"
      ]
    },
    {
      "cell_type": "code",
      "execution_count": null,
      "metadata": {},
      "outputs": [],
      "source": [
        "#ENV_NAMES += [\"CartPole-v1\"]\n",
        "ENV_NAMES += [\"LunarLander-v3\"]\n",
        "for i, env_name in enumerate(ENV_NAMES[-1:]):\n",
        "    device = torch.device(\"cuda:0\" if torch.cuda.is_available() else \"cpu\")\n",
        "    #replay_buffer = ReplayBuffer(DATASET_SIZE, BATCH_SIZE, device)\n",
        "    buffer = ReplayBuffer(DATASET_SIZE, BATCH_SIZE, device)\n",
        "    print(env_name)\n",
        "    env = gym.make(env_name)\n",
        "    \n",
        "    qnet1 = MLP(env.observation_space.shape[0], env.action_space.n, [256,256])\n",
        "    qtarget1 = MLP(env.observation_space.shape[0], env.action_space.n, [256,256])\n",
        "\n",
        "    DQN_TRAIN(\n",
        "    env = env,\n",
        "    env_name = env_name,\n",
        "    gamma = GAMMA,\n",
        "    qnet = qnet1,\n",
        "    qnet_lr = LEARNING_RATE,\n",
        "    target_qnet = qtarget1,\n",
        "    target_update_freq = SYNC_TARGET_FRAMES,\n",
        "    replay_buffer= buffer,\n",
        "    batch_size = BATCH_SIZE,\n",
        "    epsilon_f = EPSILON_FINAL,\n",
        "    epsilon_decay_period = EPSILON_DECAY_PERIOD,\n",
        "    transitions = REPLAY_SIZE)\n",
        "\n",
        "    #!sum_rewards_per_ep, q = run_sarsa(env, replay_buffer, DATASET_SIZE, LEARNING_RATE, GAMMA)\n",
        "    ENVS_REPLAY_BUFFER.append((env_name, env, buffer))\n",
        "    buffer.save_config(f\"config\\dataset\\dqn\\{env_name}.json\")"
      ]
    },
    {
      "cell_type": "markdown",
      "metadata": {},
      "source": [
        "# Treinando o Modelo"
      ]
    },
    {
      "cell_type": "markdown",
      "metadata": {},
      "source": [
        "## Carregando Datasets"
      ]
    },
    {
      "cell_type": "code",
      "execution_count": 5,
      "metadata": {},
      "outputs": [],
      "source": [
        "import gymnasium as gym\n",
        "from util.network import ReplayBuffer\n"
      ]
    },
    {
      "cell_type": "code",
      "execution_count": 6,
      "metadata": {},
      "outputs": [],
      "source": [
        "ENV_NAMES = [\"FrozenLake-v1\", \"Taxi-v3\", \"CliffWalking-v0\", \"CartPole-v1\", \"LunarLander-v3\"]"
      ]
    },
    {
      "cell_type": "code",
      "execution_count": 7,
      "metadata": {},
      "outputs": [],
      "source": [
        "ENVS_REPLAY_BUFFER = []\n",
        "for env_name in ENV_NAMES[:3]:\n",
        "    replay_buffer = ReplayBuffer.load_config(f\"config\\dataset\\sarsa\\{env_name}.json\")\n",
        "    env = gym.make(env_name)\n",
        "    ENVS_REPLAY_BUFFER.append((env_name, env, replay_buffer))\n",
        "for env_name in ENV_NAMES[3:]:\n",
        "    replay_buffer = ReplayBuffer.load_config(f\"config\\dataset\\dqn\\{env_name}.json\")\n",
        "    env = gym.make(env_name)\n",
        "    ENVS_REPLAY_BUFFER.append((env_name, env, replay_buffer))"
      ]
    },
    {
      "cell_type": "markdown",
      "metadata": {},
      "source": [
        "## Definições de Treino"
      ]
    },
    {
      "cell_type": "code",
      "execution_count": 18,
      "metadata": {},
      "outputs": [],
      "source": [
        "import argparse"
      ]
    },
    {
      "cell_type": "code",
      "execution_count": 19,
      "metadata": {},
      "outputs": [],
      "source": [
        "def get_config(env_name, count_episodes, seed, gamma, tau, lr, steps, hidden_size, isDiscrete):\n",
        "    parser = argparse.ArgumentParser(description='RL')\n",
        "    parser.add_argument(\"--run_name\", type=str, default=f\"{env_name}-DQN-FQI\", help=\"Run name, default: FQI-DQN\")\n",
        "    parser.add_argument(\"--env\", type=str, default=env_name, help=\"Gym environment name, default: CartPole-v0\")\n",
        "    parser.add_argument(\"--episodes\", type=int, default=count_episodes, help=\"Number of episodes, default: 200\")\n",
        "    parser.add_argument(\"--seed\", type=int, default=seed, help=\"Seed, default: 1\")\n",
        "    parser.add_argument(\"--steps\", type=int, default=steps, help=\"Saves the network every x epochs, default: 25\")\n",
        "    \n",
        "    parser.add_argument(\"--gamma\", type=float, default=gamma, help=\"Saves the network every x epochs, default: 25\")\n",
        "    parser.add_argument(\"--tau\", type=float, default=tau, help=\"Saves the network every x epochs, default: 25\")\n",
        "    parser.add_argument(\"--lr\", type=float, default=lr, help=\"Saves the network every x epochs, default: 25\")\n",
        "    parser.add_argument(\"--hidden_size\", type=list[int], default=hidden_size, help=\"Saves the network every x epochs, default: 25\")\n",
        "    parser.add_argument(\"--isDiscrete\", type=bool, default=isDiscrete, help=\"Saves the network every x epochs, default: 25\")\n",
        "    \n",
        "    args, _ = parser.parse_known_args()\n",
        "    return args"
      ]
    },
    {
      "cell_type": "code",
      "execution_count": 20,
      "metadata": {},
      "outputs": [],
      "source": [
        "from util.network import FQIAgent, to_one_hot, MLP\n",
        "import numpy as np\n",
        "import random\n",
        "import torch\n",
        "from collections import deque"
      ]
    },
    {
      "cell_type": "code",
      "execution_count": 21,
      "metadata": {},
      "outputs": [],
      "source": [
        "def train_DQN_FQI(config, buffer):\n",
        "    np.random.seed(config.seed)\n",
        "    random.seed(config.seed)\n",
        "    torch.manual_seed(config.seed)\n",
        "    env = gym.make(config.env)\n",
        "\n",
        "    device = torch.device(\"cuda:0\" if torch.cuda.is_available() else \"cpu\")\n",
        "    losses = deque(maxlen=1000)\n",
        "    if config.isDiscrete:\n",
        "        agent = FQIAgent(env.observation_space.n, env.action_space.n, config.tau, config.gamma, config.lr, config.hidden_size, device, config.isDiscrete)\n",
        "    else:\n",
        "        agent = FQIAgent(env.observation_space.shape[0], env.action_space.n, config.tau, config.gamma, config.lr, config.hidden_size, device, config.isDiscrete)\n",
        "    for i in range(config.steps):\n",
        "        loss = agent.learn(buffer.sample_continuous())\n",
        "        losses.append(loss)     \n",
        "        if i % 1000 == 0:\n",
        "            print(f\"[TRAIN {i}] Mean Q Loss: {np.mean(losses)} \")\n",
        "    \n",
        "    agent.save(config, save_name=\"FQI-DQN\")\n",
        "    \n",
        "    return env"
      ]
    },
    {
      "cell_type": "code",
      "execution_count": 22,
      "metadata": {},
      "outputs": [],
      "source": [
        "def evaluate(config, env, model):\n",
        "    total_rewards = []\n",
        "    num_episodes = config.episodes\n",
        "    for i in range(num_episodes):\n",
        "        print(f\"[Episódio {i}]\")\n",
        "        state, _ = env.reset()\n",
        "        done = False\n",
        "        episode_reward = 0\n",
        "        step = 0\n",
        "        while not done:\n",
        "            state_tensor = torch.tensor([state], dtype=torch.long)\n",
        "            state_tensor = to_one_hot(model.state_size, state_tensor)[0].float().unsqueeze(0)\n",
        "            with torch.no_grad():\n",
        "                q_values = model(state_tensor)\n",
        "                action = torch.argmax(q_values).item()\n",
        "            state, reward, done, truncated, info = env.step(action)\n",
        "            episode_reward += reward\n",
        "            step += 1\n",
        "            if step == 10000:\n",
        "                break\n",
        "        total_rewards.append(episode_reward)\n",
        "\n",
        "    print(f\"Média de recompensa após {num_episodes} episódios: {sum(total_rewards) / num_episodes}\")"
      ]
    },
    {
      "cell_type": "code",
      "execution_count": 23,
      "metadata": {},
      "outputs": [],
      "source": [
        "# Função para extrair a tabela Q da rede neural\n",
        "def extract_q_table(q_network, num_states, num_actions):\n",
        "    q_table = np.zeros((num_states, num_actions))\n",
        "    for state in range(num_states):\n",
        "        state_tensor = torch.tensor([state], dtype=torch.long)\n",
        "        state_tensor = to_one_hot(num_states, state_tensor)[0].float().unsqueeze(0)\n",
        "        q_values = q_network(state_tensor).detach().numpy()\n",
        "        q_table[state] = q_values\n",
        "    return q_table"
      ]
    },
    {
      "cell_type": "code",
      "execution_count": 24,
      "metadata": {},
      "outputs": [],
      "source": [
        "from util.qtable_helper import record_video_qtable\n",
        "from util.notebook import display_videos_from_path"
      ]
    },
    {
      "cell_type": "code",
      "execution_count": 25,
      "metadata": {},
      "outputs": [],
      "source": [
        "\n",
        "def extract_and_display(model, env_name):\n",
        "    # Extrair a tabela Q da rede neural treinada\n",
        "    q_table = extract_q_table(model, model.state_size, model.action_size)\n",
        "\n",
        "    # Gravar um vídeo da política treinada\n",
        "    video_path = 'videos/'  # Pasta onde os vídeos serão salvos\n",
        "    video_prefix = f\"fqi_{env_name}\"  # Prefixo para o nome do arquivo de vídeo\n",
        "\n",
        "    # Gravar o vídeo\n",
        "    record_video_qtable(env_name, q_table, episodes=2, folder=video_path, prefix=video_prefix)\n",
        "\n",
        "    # Exibir o vídeo gravado\n",
        "    display_videos_from_path(video_path, prefix=video_prefix)"
      ]
    },
    {
      "cell_type": "code",
      "execution_count": 26,
      "metadata": {},
      "outputs": [],
      "source": [
        "def evaluate_Continuous(config, env, model):\n",
        "    total_rewards = []\n",
        "    num_episodes = config.episodes\n",
        "    for i in range(num_episodes):\n",
        "        print(f\"[Episódio {i}]\")\n",
        "        state, _ = env.reset()\n",
        "        done = False\n",
        "        episode_reward = 0.0\n",
        "        step = 0\n",
        "        while not done:\n",
        "            state_v = torch.tensor(state, dtype=torch.float32)\n",
        "            state_v = state_v.unsqueeze(0)  # Adiciona dimensão de batch como eixo 0 (e.g. transforma uma lista [a,b,c] em [[a,b,c]])\n",
        "            with torch.no_grad():\n",
        "                q_vals_v = model(state_v)\n",
        "                _, act_v = torch.max(q_vals_v, dim=1)\n",
        "            action = int(act_v.item())\n",
        "\n",
        "\n",
        "            state, reward, done, truncated, info = env.step(action)\n",
        "            episode_reward += reward\n",
        "            step += 1\n",
        "            if step == 10000:\n",
        "                break\n",
        "        total_rewards.append(episode_reward)\n",
        "\n",
        "    print(f\"Média de recompensa após {num_episodes} episódios: {sum(total_rewards) / num_episodes}\")"
      ]
    },
    {
      "cell_type": "code",
      "execution_count": 27,
      "metadata": {},
      "outputs": [],
      "source": [
        "# Função para renderizar o ambiente com o modelo treinado\n",
        "import time\n",
        "def render_environment(model, env_name, device=\"cpu\", episodes=5, max_steps=100000):\n",
        "    env = gym.make(env_name, render_mode=\"human\")  # Modo \"human\" para renderização\n",
        "    for episode in range(episodes):\n",
        "        state, _ = env.reset()\n",
        "        done = False\n",
        "        episode_reward = 0\n",
        "        step = 0\n",
        "\n",
        "        while not done and step < max_steps:\n",
        "            # Renderiza o ambiente\n",
        "            env.render()\n",
        "            time.sleep(0.02)  # Adiciona um pequeno delay para visualização\n",
        "\n",
        "            # Converte o estado para um tensor e passa pelo modelo\n",
        "            state_tensor = torch.tensor(state, dtype=torch.float32).unsqueeze(0).to(device)\n",
        "            with torch.no_grad():\n",
        "                q_values = model(state_tensor)\n",
        "                action = torch.argmax(q_values).item()\n",
        "\n",
        "            # Executa a ação no ambiente\n",
        "            state, reward, done, truncated, info = env.step(action)\n",
        "            episode_reward += reward\n",
        "            step += 1\n",
        "\n",
        "            if done or truncated:\n",
        "                print(f\"Episódio {episode + 1}: Recompensa = {episode_reward}, Passos = {step}\")\n",
        "                break\n",
        "\n",
        "    env.close()"
      ]
    },
    {
      "cell_type": "markdown",
      "metadata": {},
      "source": [
        "## FrozenLake"
      ]
    },
    {
      "cell_type": "code",
      "execution_count": 28,
      "metadata": {},
      "outputs": [],
      "source": [
        "COUNT_EPISODES = 50\n",
        "SEED = 777\n",
        "BATCH_SIZE = 32\n",
        "STEPS = 100_000\n",
        "GAMMA = 0.95 # Fator de desconto\n",
        "TAU = 1e-1      # Taxa de atualização da target_network\n",
        "\n",
        "LEARNING_RATE = 3e-4  # Taxa de aprendizado para o otimizador\n",
        "HIDDEN_SIZE = [64, 32]\n",
        "ISDISCRETE = True\n",
        "# Extra:"
      ]
    },
    {
      "cell_type": "code",
      "execution_count": 29,
      "metadata": {},
      "outputs": [],
      "source": [
        "ENVS_REPLAY_BUFFER[0][2].batch_size = BATCH_SIZE"
      ]
    },
    {
      "cell_type": "code",
      "execution_count": 30,
      "metadata": {},
      "outputs": [],
      "source": [
        "config = get_config(ENVS_REPLAY_BUFFER[0][0], COUNT_EPISODES, SEED, GAMMA, TAU, LEARNING_RATE, STEPS, HIDDEN_SIZE, ISDISCRETE)"
      ]
    },
    {
      "cell_type": "code",
      "execution_count": 31,
      "metadata": {},
      "outputs": [
        {
          "name": "stderr",
          "output_type": "stream",
          "text": [
            "d:\\Luiz\\Faculdade\\RL\\OffRL\\venv\\lib\\site-packages\\torch\\nn\\modules\\loss.py:1042: UserWarning: Using a target size (torch.Size([32, 32])) that is different to the input size (torch.Size([32])). This will likely lead to incorrect results due to broadcasting. Please ensure they have the same size.\n",
            "  return F.smooth_l1_loss(input, target, reduction=self.reduction, beta=self.beta)\n"
          ]
        },
        {
          "name": "stdout",
          "output_type": "stream",
          "text": [
            "[TRAIN 0] Mean Q Loss: 0.021526992321014404 \n",
            "[TRAIN 1000] Mean Q Loss: 0.00024741184826454797 \n",
            "[TRAIN 2000] Mean Q Loss: 2.260503418340054e-06 \n",
            "[TRAIN 3000] Mean Q Loss: 6.80439020762022e-07 \n",
            "[TRAIN 4000] Mean Q Loss: 3.290662451967824e-07 \n",
            "[TRAIN 5000] Mean Q Loss: 2.193679192385445e-07 \n",
            "[TRAIN 6000] Mean Q Loss: 4.283093615090605e-07 \n",
            "[TRAIN 7000] Mean Q Loss: 6.503657597898282e-07 \n",
            "[TRAIN 8000] Mean Q Loss: 9.695785778367494e-07 \n",
            "[TRAIN 9000] Mean Q Loss: 7.914237759223397e-07 \n",
            "[TRAIN 10000] Mean Q Loss: 5.435052894189884e-07 \n",
            "[TRAIN 11000] Mean Q Loss: 8.621617166628681e-07 \n",
            "[TRAIN 12000] Mean Q Loss: 6.237447114689765e-07 \n",
            "[TRAIN 13000] Mean Q Loss: 9.06786265252979e-07 \n",
            "[TRAIN 14000] Mean Q Loss: 6.16354140683173e-07 \n",
            "[TRAIN 15000] Mean Q Loss: 4.265205128737848e-07 \n",
            "[TRAIN 16000] Mean Q Loss: 8.935996517629094e-07 \n",
            "[TRAIN 17000] Mean Q Loss: 5.462488529244247e-07 \n",
            "[TRAIN 18000] Mean Q Loss: 4.949174362951503e-07 \n",
            "[TRAIN 19000] Mean Q Loss: 5.337418956301576e-07 \n",
            "[TRAIN 20000] Mean Q Loss: 3.5130058016885625e-07 \n",
            "[TRAIN 21000] Mean Q Loss: 4.350429569449643e-07 \n",
            "[TRAIN 22000] Mean Q Loss: 4.5936233991072937e-07 \n",
            "[TRAIN 23000] Mean Q Loss: 4.2762041218402656e-07 \n",
            "[TRAIN 24000] Mean Q Loss: 3.455012813939895e-07 \n",
            "[TRAIN 25000] Mean Q Loss: 1.9704958002475514e-07 \n",
            "[TRAIN 26000] Mean Q Loss: 4.098324522674446e-07 \n",
            "[TRAIN 27000] Mean Q Loss: 1.5340469274693902e-07 \n",
            "[TRAIN 28000] Mean Q Loss: 3.6397088646011876e-07 \n",
            "[TRAIN 29000] Mean Q Loss: 3.180096939030541e-07 \n",
            "[TRAIN 30000] Mean Q Loss: 1.9075778623434126e-07 \n",
            "[TRAIN 31000] Mean Q Loss: 1.8340532072258498e-07 \n",
            "[TRAIN 32000] Mean Q Loss: 2.870159695677055e-07 \n",
            "[TRAIN 33000] Mean Q Loss: 1.6122112913297126e-07 \n",
            "[TRAIN 34000] Mean Q Loss: 2.141364535122592e-07 \n",
            "[TRAIN 35000] Mean Q Loss: 1.9823436830157527e-07 \n",
            "[TRAIN 36000] Mean Q Loss: 1.6328601939041844e-07 \n",
            "[TRAIN 37000] Mean Q Loss: 1.6440094605103816e-07 \n",
            "[TRAIN 38000] Mean Q Loss: 8.580509257838375e-08 \n",
            "[TRAIN 39000] Mean Q Loss: 2.1504226602253596e-07 \n",
            "[TRAIN 40000] Mean Q Loss: 8.721391398863743e-08 \n",
            "[TRAIN 41000] Mean Q Loss: 1.6289979129957553e-07 \n",
            "[TRAIN 42000] Mean Q Loss: 1.9030626952987184e-07 \n",
            "[TRAIN 43000] Mean Q Loss: 1.920352758275068e-07 \n",
            "[TRAIN 44000] Mean Q Loss: 1.7394636061429659e-07 \n",
            "[TRAIN 45000] Mean Q Loss: 1.19601446304185e-07 \n",
            "[TRAIN 46000] Mean Q Loss: 9.664214674987015e-08 \n",
            "[TRAIN 47000] Mean Q Loss: 1.4749245782721965e-07 \n",
            "[TRAIN 48000] Mean Q Loss: 1.059981216446626e-07 \n",
            "[TRAIN 49000] Mean Q Loss: 1.4804862364681258e-07 \n",
            "[TRAIN 50000] Mean Q Loss: 7.505115914901994e-08 \n",
            "[TRAIN 51000] Mean Q Loss: 6.26354549847219e-08 \n",
            "[TRAIN 52000] Mean Q Loss: 1.4421844924594752e-07 \n",
            "[TRAIN 53000] Mean Q Loss: 1.1635262376341604e-07 \n",
            "[TRAIN 54000] Mean Q Loss: 6.750382050010883e-08 \n",
            "[TRAIN 55000] Mean Q Loss: 8.511819161607925e-08 \n",
            "[TRAIN 56000] Mean Q Loss: 1.7459187756740936e-07 \n",
            "[TRAIN 57000] Mean Q Loss: 8.394219509511025e-08 \n",
            "[TRAIN 58000] Mean Q Loss: 8.934847253466716e-08 \n",
            "[TRAIN 59000] Mean Q Loss: 8.344189093534293e-08 \n",
            "[TRAIN 60000] Mean Q Loss: 9.140177817717338e-08 \n",
            "[TRAIN 61000] Mean Q Loss: 5.975016184919801e-08 \n",
            "[TRAIN 62000] Mean Q Loss: 8.26551138473075e-08 \n",
            "[TRAIN 63000] Mean Q Loss: 1.28018178400649e-07 \n",
            "[TRAIN 64000] Mean Q Loss: 8.226056993565489e-08 \n",
            "[TRAIN 65000] Mean Q Loss: 6.167232417192414e-08 \n",
            "[TRAIN 66000] Mean Q Loss: 5.144538933886389e-08 \n",
            "[TRAIN 67000] Mean Q Loss: 1.1138395589997686e-07 \n",
            "[TRAIN 68000] Mean Q Loss: 6.749338112295444e-08 \n",
            "[TRAIN 69000] Mean Q Loss: 7.734761919125921e-08 \n",
            "[TRAIN 70000] Mean Q Loss: 7.967257905705516e-08 \n",
            "[TRAIN 71000] Mean Q Loss: 1.1185062762369968e-07 \n",
            "[TRAIN 72000] Mean Q Loss: 8.06664815002911e-08 \n",
            "[TRAIN 73000] Mean Q Loss: 7.649138110676912e-08 \n",
            "[TRAIN 74000] Mean Q Loss: 4.6489213205533344e-08 \n",
            "[TRAIN 75000] Mean Q Loss: 7.137940090487516e-08 \n",
            "[TRAIN 76000] Mean Q Loss: 8.714622298269804e-08 \n",
            "[TRAIN 77000] Mean Q Loss: 7.909864953969947e-08 \n",
            "[TRAIN 78000] Mean Q Loss: 6.268220368718658e-08 \n",
            "[TRAIN 79000] Mean Q Loss: 7.730776163145103e-08 \n",
            "[TRAIN 80000] Mean Q Loss: 3.875064183755938e-08 \n",
            "[TRAIN 81000] Mean Q Loss: 5.893962439104672e-08 \n",
            "[TRAIN 82000] Mean Q Loss: 8.17804708958536e-08 \n",
            "[TRAIN 83000] Mean Q Loss: 6.288098475804027e-08 \n",
            "[TRAIN 84000] Mean Q Loss: 4.6637827822298975e-08 \n",
            "[TRAIN 85000] Mean Q Loss: 6.412525586974027e-08 \n",
            "[TRAIN 86000] Mean Q Loss: 5.029389574313925e-08 \n",
            "[TRAIN 87000] Mean Q Loss: 5.062208250075639e-08 \n",
            "[TRAIN 88000] Mean Q Loss: 6.181004930866374e-08 \n",
            "[TRAIN 89000] Mean Q Loss: 5.991146409589643e-08 \n",
            "[TRAIN 90000] Mean Q Loss: 3.6785695194468946e-08 \n",
            "[TRAIN 91000] Mean Q Loss: 5.597418017233569e-08 \n",
            "[TRAIN 92000] Mean Q Loss: 6.136547538456577e-08 \n",
            "[TRAIN 93000] Mean Q Loss: 3.966308280978215e-08 \n",
            "[TRAIN 94000] Mean Q Loss: 7.074674643706147e-08 \n",
            "[TRAIN 95000] Mean Q Loss: 4.3261970119931604e-08 \n",
            "[TRAIN 96000] Mean Q Loss: 4.5277379546224126e-08 \n",
            "[TRAIN 97000] Mean Q Loss: 4.6890722643300186e-08 \n",
            "[TRAIN 98000] Mean Q Loss: 2.132215193988152e-08 \n",
            "[TRAIN 99000] Mean Q Loss: 4.645449675375057e-08 \n"
          ]
        }
      ],
      "source": [
        "env = train_DQN_FQI(config, ENVS_REPLAY_BUFFER[0][2])"
      ]
    },
    {
      "cell_type": "code",
      "execution_count": 36,
      "metadata": {},
      "outputs": [],
      "source": [
        "import torch"
      ]
    },
    {
      "cell_type": "code",
      "execution_count": 37,
      "metadata": {},
      "outputs": [
        {
          "data": {
            "text/plain": [
              "MLP(\n",
              "  (layers): Sequential(\n",
              "    (0): Linear(in_features=16, out_features=64, bias=True)\n",
              "    (1): ReLU()\n",
              "    (2): Linear(in_features=64, out_features=32, bias=True)\n",
              "    (3): ReLU()\n",
              "    (4): Linear(in_features=32, out_features=4, bias=True)\n",
              "  )\n",
              ")"
            ]
          },
          "execution_count": 37,
          "metadata": {},
          "output_type": "execute_result"
        }
      ],
      "source": [
        "env = ENVS_REPLAY_BUFFER[0][1]\n",
        "model = MLP(env.observation_space.n, env.action_space.n, HIDDEN_SIZE)\n",
        "model.load_state_dict(torch.load(f\"trained_models/{ENVS_REPLAY_BUFFER[0][0]}FQI-DQN.pth\"))\n",
        "model.eval()  # Definir para modo de avaliação"
      ]
    },
    {
      "cell_type": "code",
      "execution_count": 38,
      "metadata": {},
      "outputs": [
        {
          "name": "stdout",
          "output_type": "stream",
          "text": [
            "[Episódio 0]\n",
            "[Episódio 1]\n",
            "[Episódio 2]\n",
            "[Episódio 3]\n",
            "[Episódio 4]\n",
            "[Episódio 5]\n",
            "[Episódio 6]\n",
            "[Episódio 7]\n",
            "[Episódio 8]\n",
            "[Episódio 9]\n",
            "[Episódio 10]\n",
            "[Episódio 11]\n",
            "[Episódio 12]\n",
            "[Episódio 13]\n",
            "[Episódio 14]\n",
            "[Episódio 15]\n",
            "[Episódio 16]\n",
            "[Episódio 17]\n",
            "[Episódio 18]\n",
            "[Episódio 19]\n",
            "[Episódio 20]\n",
            "[Episódio 21]\n",
            "[Episódio 22]\n",
            "[Episódio 23]\n",
            "[Episódio 24]\n",
            "[Episódio 25]\n",
            "[Episódio 26]\n",
            "[Episódio 27]\n",
            "[Episódio 28]\n",
            "[Episódio 29]\n",
            "[Episódio 30]\n",
            "[Episódio 31]\n",
            "[Episódio 32]\n",
            "[Episódio 33]\n",
            "[Episódio 34]\n",
            "[Episódio 35]\n",
            "[Episódio 36]\n",
            "[Episódio 37]\n",
            "[Episódio 38]\n",
            "[Episódio 39]\n",
            "[Episódio 40]\n",
            "[Episódio 41]\n",
            "[Episódio 42]\n",
            "[Episódio 43]\n",
            "[Episódio 44]\n",
            "[Episódio 45]\n",
            "[Episódio 46]\n",
            "[Episódio 47]\n",
            "[Episódio 48]\n",
            "[Episódio 49]\n",
            "Média de recompensa após 50 episódios: 0.0\n"
          ]
        }
      ],
      "source": [
        "evaluate(config, env, model)"
      ]
    },
    {
      "cell_type": "code",
      "execution_count": 39,
      "metadata": {},
      "outputs": [
        {
          "data": {
            "text/html": [
              "<video alt=\"videos\\fqi_FrozenLake-v1-episode-0.mp4\" autoplay \n",
              "                    loop controls style=\"height: 400px;\">\n",
              "                    <source src=\"data:video/mp4;base64,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\" type=\"video/mp4\" />\n",
              "                    </video><br><video alt=\"videos\\fqi_FrozenLake-v1-episode-1.mp4\" autoplay \n",
              "                    loop controls style=\"height: 400px;\">\n",
              "                    <source src=\"data:video/mp4;base64,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\" type=\"video/mp4\" />\n",
              "                    </video>"
            ],
            "text/plain": [
              "<IPython.core.display.HTML object>"
            ]
          },
          "metadata": {},
          "output_type": "display_data"
        },
        {
          "data": {
            "text/html": [
              "\n",
              "        <script>\n",
              "        var videos = document.getElementsByTagName('video');\n",
              "        for (var i = 0; i < videos.length; i++) {\n",
              "            videos[i].playbackRate = 1.0;\n",
              "        }\n",
              "        </script>\n",
              "        "
            ],
            "text/plain": [
              "<IPython.core.display.HTML object>"
            ]
          },
          "metadata": {},
          "output_type": "display_data"
        }
      ],
      "source": [
        "extract_and_display(model, ENVS_REPLAY_BUFFER[0][0])"
      ]
    },
    {
      "cell_type": "markdown",
      "metadata": {},
      "source": [
        "## Taxi"
      ]
    },
    {
      "cell_type": "code",
      "execution_count": 14,
      "metadata": {},
      "outputs": [],
      "source": [
        "COUNT_EPISODES = 50\n",
        "SEED = 777\n",
        "BATCH_SIZE = 256\n",
        "STEPS = 300_000\n",
        "GAMMA = 0.97  # Fator de desconto\n",
        "TAU = 1e-2      # Taxa de atualização da target_network\n",
        "LEARNING_RATE = 5e-4  # Taxa de aprendizado para o otimizador\n",
        "HIDDEN_SIZE = [512, 256]\n",
        "ISDISCRETE = True\n",
        "# Extra:"
      ]
    },
    {
      "cell_type": "code",
      "execution_count": 15,
      "metadata": {},
      "outputs": [],
      "source": [
        "ENVS_REPLAY_BUFFER[1][2].batch_size = BATCH_SIZE"
      ]
    },
    {
      "cell_type": "code",
      "execution_count": 16,
      "metadata": {},
      "outputs": [],
      "source": [
        "config = get_config(ENVS_REPLAY_BUFFER[1][0], COUNT_EPISODES, SEED, GAMMA, TAU, LEARNING_RATE, STEPS, HIDDEN_SIZE, ISDISCRETE)"
      ]
    },
    {
      "cell_type": "code",
      "execution_count": 17,
      "metadata": {},
      "outputs": [
        {
          "ename": "OverflowError",
          "evalue": "Python integer 269 out of bounds for uint8",
          "output_type": "error",
          "traceback": [
            "\u001b[1;31m---------------------------------------------------------------------------\u001b[0m",
            "\u001b[1;31mOverflowError\u001b[0m                             Traceback (most recent call last)",
            "Cell \u001b[1;32mIn[17], line 1\u001b[0m\n\u001b[1;32m----> 1\u001b[0m env \u001b[38;5;241m=\u001b[39m \u001b[43mtrain_DQN_FQI\u001b[49m\u001b[43m(\u001b[49m\u001b[43mconfig\u001b[49m\u001b[43m,\u001b[49m\u001b[43m \u001b[49m\u001b[43mENVS_REPLAY_BUFFER\u001b[49m\u001b[43m[\u001b[49m\u001b[38;5;241;43m1\u001b[39;49m\u001b[43m]\u001b[49m\u001b[43m[\u001b[49m\u001b[38;5;241;43m2\u001b[39;49m\u001b[43m]\u001b[49m\u001b[43m)\u001b[49m\n",
            "Cell \u001b[1;32mIn[7], line 14\u001b[0m, in \u001b[0;36mtrain_DQN_FQI\u001b[1;34m(config, buffer)\u001b[0m\n\u001b[0;32m     12\u001b[0m     agent \u001b[38;5;241m=\u001b[39m FQIAgent(env\u001b[38;5;241m.\u001b[39mobservation_space\u001b[38;5;241m.\u001b[39mshape[\u001b[38;5;241m0\u001b[39m], env\u001b[38;5;241m.\u001b[39maction_space\u001b[38;5;241m.\u001b[39mn, config\u001b[38;5;241m.\u001b[39mtau, config\u001b[38;5;241m.\u001b[39mgamma, config\u001b[38;5;241m.\u001b[39mlr, config\u001b[38;5;241m.\u001b[39mhidden_size, device, config\u001b[38;5;241m.\u001b[39misDiscrete)\n\u001b[0;32m     13\u001b[0m \u001b[38;5;28;01mfor\u001b[39;00m i \u001b[38;5;129;01min\u001b[39;00m \u001b[38;5;28mrange\u001b[39m(config\u001b[38;5;241m.\u001b[39msteps):\n\u001b[1;32m---> 14\u001b[0m     loss \u001b[38;5;241m=\u001b[39m agent\u001b[38;5;241m.\u001b[39mlearn(\u001b[43mbuffer\u001b[49m\u001b[38;5;241;43m.\u001b[39;49m\u001b[43msample_continuous\u001b[49m\u001b[43m(\u001b[49m\u001b[43m)\u001b[49m)\n\u001b[0;32m     15\u001b[0m     losses\u001b[38;5;241m.\u001b[39mappend(loss)     \n\u001b[0;32m     16\u001b[0m     \u001b[38;5;28;01mif\u001b[39;00m i \u001b[38;5;241m%\u001b[39m \u001b[38;5;241m1000\u001b[39m \u001b[38;5;241m==\u001b[39m \u001b[38;5;241m0\u001b[39m:\n",
            "File \u001b[1;32md:\\Luiz\\Faculdade\\RL\\OffRL\\util\\network.py:58\u001b[0m, in \u001b[0;36mReplayBuffer.sample_continuous\u001b[1;34m(self)\u001b[0m\n\u001b[0;32m     55\u001b[0m indices \u001b[38;5;241m=\u001b[39m np\u001b[38;5;241m.\u001b[39mrandom\u001b[38;5;241m.\u001b[39mchoice(\u001b[38;5;28mlen\u001b[39m(\u001b[38;5;28mself\u001b[39m\u001b[38;5;241m.\u001b[39mmemory), \u001b[38;5;28mself\u001b[39m\u001b[38;5;241m.\u001b[39mbatch_size, replace\u001b[38;5;241m=\u001b[39m\u001b[38;5;28;01mFalse\u001b[39;00m)\n\u001b[0;32m     56\u001b[0m states, actions, rewards, dones, next_states \u001b[38;5;241m=\u001b[39m \u001b[38;5;28mzip\u001b[39m(\u001b[38;5;241m*\u001b[39m[\u001b[38;5;28mself\u001b[39m\u001b[38;5;241m.\u001b[39mmemory[idx] \u001b[38;5;28;01mfor\u001b[39;00m idx \u001b[38;5;129;01min\u001b[39;00m indices])\n\u001b[0;32m     57\u001b[0m \u001b[38;5;28;01mreturn\u001b[39;00m np\u001b[38;5;241m.\u001b[39marray(states), np\u001b[38;5;241m.\u001b[39marray(actions), np\u001b[38;5;241m.\u001b[39marray(rewards, dtype\u001b[38;5;241m=\u001b[39mnp\u001b[38;5;241m.\u001b[39mfloat32), \\\n\u001b[1;32m---> 58\u001b[0m        \u001b[43mnp\u001b[49m\u001b[38;5;241;43m.\u001b[39;49m\u001b[43marray\u001b[49m\u001b[43m(\u001b[49m\u001b[43mdones\u001b[49m\u001b[43m,\u001b[49m\u001b[43m \u001b[49m\u001b[43mdtype\u001b[49m\u001b[38;5;241;43m=\u001b[39;49m\u001b[43mnp\u001b[49m\u001b[38;5;241;43m.\u001b[39;49m\u001b[43muint8\u001b[49m\u001b[43m)\u001b[49m, np\u001b[38;5;241m.\u001b[39marray(next_states)\n",
            "\u001b[1;31mOverflowError\u001b[0m: Python integer 269 out of bounds for uint8"
          ]
        }
      ],
      "source": [
        "env = train_DQN_FQI(config, ENVS_REPLAY_BUFFER[1][2])"
      ]
    },
    {
      "cell_type": "code",
      "execution_count": null,
      "metadata": {},
      "outputs": [],
      "source": [
        "import torch"
      ]
    },
    {
      "cell_type": "code",
      "execution_count": null,
      "metadata": {},
      "outputs": [],
      "source": [
        "env = ENVS_REPLAY_BUFFER[1][1]\n",
        "model = MLP(env.observation_space.n, env.action_space.n, HIDDEN_SIZE)\n",
        "model.load_state_dict(torch.load(f\"trained_models/{ENVS_REPLAY_BUFFER[1][0]}FQI-DQN.pth\"))\n",
        "model.eval()  # Definir para modo de avaliação"
      ]
    },
    {
      "cell_type": "code",
      "execution_count": null,
      "metadata": {},
      "outputs": [],
      "source": [
        "evaluate(config, env, model)"
      ]
    },
    {
      "cell_type": "code",
      "execution_count": null,
      "metadata": {},
      "outputs": [],
      "source": [
        "extract_and_display(model, ENVS_REPLAY_BUFFER[1][0])"
      ]
    },
    {
      "cell_type": "markdown",
      "metadata": {},
      "source": [
        "## Cliffwalking"
      ]
    },
    {
      "cell_type": "code",
      "execution_count": null,
      "metadata": {},
      "outputs": [],
      "source": [
        "COUNT_EPISODES = 50\n",
        "SEED = 777\n",
        "BATCH_SIZE = 128\n",
        "STEPS = 200_000\n",
        "GAMMA = 0.98  # Fator de desconto\n",
        "TAU = 5e-3      # Taxa de atualização da target_network\n",
        "LEARNING_RATE = 5e-4  # Taxa de aprendizado para o otimizador\n",
        "HIDDEN_SIZE = [256, 128, 64]  # Tamanho da camada oculta\n",
        "ISDISCRETE = True\n",
        "# Extra:"
      ]
    },
    {
      "cell_type": "code",
      "execution_count": null,
      "metadata": {},
      "outputs": [],
      "source": [
        "ENVS_REPLAY_BUFFER[2][2].batch_size = BATCH_SIZE"
      ]
    },
    {
      "cell_type": "code",
      "execution_count": null,
      "metadata": {},
      "outputs": [],
      "source": [
        "config = get_config(ENVS_REPLAY_BUFFER[2][0], COUNT_EPISODES, SEED, GAMMA, TAU, LEARNING_RATE, STEPS, HIDDEN_SIZE, ISDISCRETE)"
      ]
    },
    {
      "cell_type": "code",
      "execution_count": null,
      "metadata": {},
      "outputs": [],
      "source": [
        "env = train_DQN_FQI(config, ENVS_REPLAY_BUFFER[2][2])"
      ]
    },
    {
      "cell_type": "code",
      "execution_count": null,
      "metadata": {},
      "outputs": [],
      "source": [
        "import torch"
      ]
    },
    {
      "cell_type": "code",
      "execution_count": null,
      "metadata": {},
      "outputs": [],
      "source": [
        "env = ENVS_REPLAY_BUFFER[2][1]\n",
        "model = MLP(env.observation_space.n, env.action_space.n, HIDDEN_SIZE)\n",
        "model.load_state_dict(torch.load(f\"trained_models/{ENVS_REPLAY_BUFFER[2][0]}FQI-DQN.pth\"))\n",
        "model.eval()  # Definir para modo de avaliação"
      ]
    },
    {
      "cell_type": "code",
      "execution_count": null,
      "metadata": {},
      "outputs": [],
      "source": [
        "evaluate(config, env, model)"
      ]
    },
    {
      "cell_type": "code",
      "execution_count": null,
      "metadata": {},
      "outputs": [],
      "source": [
        "extract_and_display(model, ENVS_REPLAY_BUFFER[2][0])"
      ]
    },
    {
      "cell_type": "markdown",
      "metadata": {},
      "source": [
        "## CartPole"
      ]
    },
    {
      "cell_type": "code",
      "execution_count": null,
      "metadata": {},
      "outputs": [],
      "source": [
        "COUNT_EPISODES = 50\n",
        "SEED = 777\n",
        "BATCH_SIZE = 256\n",
        "STEPS = 50_000\n",
        "GAMMA = 0.99  # Fator de desconto\n",
        "TAU = 5e-3      # Taxa de atualização da target_network\n",
        "LEARNING_RATE = 1e-4  # Taxa de aprendizado para o otimizador\n",
        "HIDDEN_SIZE = [256, 128]\n",
        "ISDISCRETE = False\n",
        "# Extra:"
      ]
    },
    {
      "cell_type": "code",
      "execution_count": null,
      "metadata": {},
      "outputs": [],
      "source": [
        "ENVS_REPLAY_BUFFER[3][2].batch_size = BATCH_SIZE"
      ]
    },
    {
      "cell_type": "code",
      "execution_count": null,
      "metadata": {},
      "outputs": [],
      "source": [
        "config = get_config(ENVS_REPLAY_BUFFER[3][0], COUNT_EPISODES, SEED, GAMMA, TAU, LEARNING_RATE, STEPS, HIDDEN_SIZE, ISDISCRETE)"
      ]
    },
    {
      "cell_type": "code",
      "execution_count": null,
      "metadata": {},
      "outputs": [],
      "source": [
        "ENVS_REPLAY_BUFFER[3][2].memory"
      ]
    },
    {
      "cell_type": "code",
      "execution_count": null,
      "metadata": {},
      "outputs": [],
      "source": [
        "env = train_DQN_FQI(config, ENVS_REPLAY_BUFFER[3][2])"
      ]
    },
    {
      "cell_type": "code",
      "execution_count": null,
      "metadata": {},
      "outputs": [],
      "source": [
        "import torch"
      ]
    },
    {
      "cell_type": "code",
      "execution_count": null,
      "metadata": {},
      "outputs": [],
      "source": [
        "env = ENVS_REPLAY_BUFFER[3][1]\n",
        "model = MLP(env.observation_space.shape[0], env.action_space.n, HIDDEN_SIZE)\n",
        "model.load_state_dict(torch.load(f\"trained_models/{ENVS_REPLAY_BUFFER[3][0]}FQI-DQN.pth\"))\n",
        "model.eval()  # Definir para modo de avaliação"
      ]
    },
    {
      "cell_type": "code",
      "execution_count": null,
      "metadata": {},
      "outputs": [],
      "source": [
        "evaluate_Continuous(config, env, model)"
      ]
    },
    {
      "cell_type": "code",
      "execution_count": null,
      "metadata": {},
      "outputs": [],
      "source": [
        "#extract_and_display(model, ENVS_REPLAY_BUFFER[3][0])\n",
        "render_environment(model, ENVS_REPLAY_BUFFER[3][0])"
      ]
    },
    {
      "cell_type": "markdown",
      "metadata": {},
      "source": [
        "## LunarLander"
      ]
    },
    {
      "cell_type": "code",
      "execution_count": null,
      "metadata": {},
      "outputs": [],
      "source": [
        "COUNT_EPISODES = 50\n",
        "SEED = 777\n",
        "BATCH_SIZE = 256\n",
        "STEPS = 50_000\n",
        "GAMMA = 0.99  # Fator de desconto\n",
        "TAU = 5e-3      # Taxa de atualização da target_network\n",
        "LEARNING_RATE = 1e-4  # Taxa de aprendizado para o otimizador\n",
        "HIDDEN_SIZE = [256, 256]\n",
        "ISDISCRETE = False\n",
        "# Extra:"
      ]
    },
    {
      "cell_type": "code",
      "execution_count": null,
      "metadata": {},
      "outputs": [],
      "source": [
        "ENVS_REPLAY_BUFFER[4][2].batch_size = BATCH_SIZE"
      ]
    },
    {
      "cell_type": "code",
      "execution_count": null,
      "metadata": {},
      "outputs": [],
      "source": [
        "config = get_config(ENVS_REPLAY_BUFFER[4][0], COUNT_EPISODES, SEED, GAMMA, TAU, LEARNING_RATE, STEPS, HIDDEN_SIZE, ISDISCRETE)"
      ]
    },
    {
      "cell_type": "code",
      "execution_count": null,
      "metadata": {},
      "outputs": [],
      "source": [
        "env = train_DQN_FQI(config, ENVS_REPLAY_BUFFER[4][2])"
      ]
    },
    {
      "cell_type": "code",
      "execution_count": null,
      "metadata": {},
      "outputs": [],
      "source": [
        "import torch"
      ]
    },
    {
      "cell_type": "code",
      "execution_count": null,
      "metadata": {},
      "outputs": [],
      "source": [
        "env = ENVS_REPLAY_BUFFER[4][1]\n",
        "model = MLP(env.observation_space.shape[0], env.action_space.n, HIDDEN_SIZE)\n",
        "model.load_state_dict(torch.load(f\"trained_models/{ENVS_REPLAY_BUFFER[4][0]}FQI-DQN.pth\"))\n",
        "model.eval()  # Definir para modo de avaliação"
      ]
    },
    {
      "cell_type": "code",
      "execution_count": null,
      "metadata": {},
      "outputs": [],
      "source": [
        "evaluate_Continuous(config, env, model)"
      ]
    },
    {
      "cell_type": "code",
      "execution_count": null,
      "metadata": {},
      "outputs": [],
      "source": [
        "#extract_and_display(model, ENVS_REPLAY_BUFFER[3][0])\n",
        "render_environment(model, ENVS_REPLAY_BUFFER[4][0])"
      ]
    }
  ],
  "metadata": {
    "colab": {
      "collapsed_sections": [
        "_PjVle_uaC34"
      ],
      "provenance": []
    },
    "kernelspec": {
      "display_name": "venv",
      "language": "python",
      "name": "python3"
    },
    "language_info": {
      "codemirror_mode": {
        "name": "ipython",
        "version": 3
      },
      "file_extension": ".py",
      "mimetype": "text/x-python",
      "name": "python",
      "nbconvert_exporter": "python",
      "pygments_lexer": "ipython3",
      "version": "3.10.11"
    }
  },
  "nbformat": 4,
  "nbformat_minor": 0
}
